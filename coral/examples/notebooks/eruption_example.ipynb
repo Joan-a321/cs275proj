{
  "cells": [
    {
      "cell_type": "markdown",
      "metadata": {
        "id": "LpQvs2DVfkVy"
      },
      "source": [
        "# Biomaker CA: Eruption configuration\n",
        "\n",
        "This colab shows how to run experiments on the Eruption configuration. Eruption contains LAVA and FIRE as extra materials. See the code base for examples on how to create your own materials.\n",
        "\n",
        "Set soil_unbalance_limit to 1/3 for a more optimal set of experiments. The value of 0 reproduces experiments in the [original YouTube video](https://youtu.be/e8Gl0Ns4XiM).\n",
        "\n",
        "Copyright 2023 Google LLC\n",
        "\n",
        "Licensed under the Apache License, Version 2.0 (the \"License\");\n",
        "you may not use this file except in compliance with the License.\n",
        "You may obtain a copy of the License at\n",
        "\n",
        "    https://www.apache.org/licenses/LICENSE-2.0\n",
        "\n",
        "Unless required by applicable law or agreed to in writing, software\n",
        "distributed under the License is distributed on an \"AS IS\" BASIS,\n",
        "WITHOUT WARRANTIES OR CONDITIONS OF ANY KIND, either express or implied.\n",
        "See the License for the specific language governing permissions and\n",
        "limitations under the License."
      ]
    },
    {
      "cell_type": "markdown",
      "metadata": {
        "id": "iuhJcrwNgIEF"
      },
      "source": [
        "## Imports"
      ]
    },
    {
      "cell_type": "code",
      "execution_count": null,
      "metadata": {
        "id": "287RU0sup5J2"
      },
      "outputs": [],
      "source": [
        "#@title install selforg package\n",
        "# install the package locally\n",
        "!pip install --upgrade -e git+https://github.com/google-research/self-organising-systems.git#egg=self_organising_systems\u0026subdirectory=biomakerca\n",
        "# activate the locally installed package (otherwise a runtime restart is required)\n",
        "import pkg_resources\n",
        "import importlib\n",
        "# Reload the resources because we uninstalled and reinstalled some packages.\n",
        "importlib.reload(pkg_resources)\n",
        "pkg_resources.get_distribution(\"self_organising_systems\").activate()"
      ]
    },
    {
      "cell_type": "code",
      "execution_count": null,
      "metadata": {
        "id": "DY7J0cz7NUCV"
      },
      "outputs": [],
      "source": [
        "#@title imports \u0026 notebook utilities\n",
        "\n",
        "import cv2\n",
        "import numpy as np\n",
        "import jax.random as jr\n",
        "import jax.numpy as jp\n",
        "from jax import vmap\n",
        "from jax import jit\n",
        "import jax\n",
        "import time\n",
        "\n",
        "from self_organising_systems.biomakerca import environments as evm\n",
        "from self_organising_systems.biomakerca.agent_logic import BasicAgentLogic\n",
        "from self_organising_systems.biomakerca.agent_logic import adapt_dna_to_different_basic_logic\n",
        "from self_organising_systems.biomakerca.mutators import BasicMutator\n",
        "from self_organising_systems.biomakerca.mutators import RandomlyAdaptiveMutator\n",
        "from self_organising_systems.biomakerca.step_maker import step_env\n",
        "from self_organising_systems.biomakerca.display_utils import zoom, imshow, add_text_to_img\n",
        "from self_organising_systems.biomakerca.custom_ipython_display import display\n",
        "from self_organising_systems.biomakerca.env_logic import ReproduceOp\n",
        "from self_organising_systems.biomakerca.env_logic import env_perform_one_reproduce_op\n",
        "from self_organising_systems.biomakerca.env_logic import process_structural_integrity_n_times\n",
        "from self_organising_systems.biomakerca.extensions.eruption import EruptionTypeDef\n",
        "from self_organising_systems.biomakerca.extensions.eruption import make_eruption_excl_fs\n",
        "from self_organising_systems.biomakerca.extensions.eruption import create_eruption_env\n",
        "from self_organising_systems.biomakerca.extensions.eruption import run_eruption_env\n",
        "from self_organising_systems.biomakerca.extensions.eruption import test_freq_lava\n",
        "from self_organising_systems.biomakerca.extensions.eruption import test_wave_lava\n",
        "from self_organising_systems.biomakerca.extensions.eruption import update_slice_with_lava\n",
        "from self_organising_systems.biomakerca.extensions.eruption import get_eruption_config\n",
        "\n",
        "from self_organising_systems.biomakerca.utils import load_dna, save_dna\n",
        "from self_organising_systems.biomakerca.environments import DefaultTypeDef\n",
        "from self_organising_systems.biomakerca.env_logic import make_empty_upd_state\n",
        "from self_organising_systems.biomakerca import cells_logic\n",
        "from self_organising_systems.biomakerca import env_logic\n",
        "\n",
        "tiny_dna = load_dna('persistence_1697720583799231923.npy')\n",
        "\n",
        "import tqdm\n",
        "import mediapy as media\n",
        "from functools import partial\n",
        "from IPython.display import clear_output\n",
        "import matplotlib.pyplot as plt"
      ]
    },
    {
      "cell_type": "markdown",
      "metadata": {
        "id": "hL1t6PdkmAaJ"
      },
      "source": [
        "## Create the eruption config and etd"
      ]
    },
    {
      "cell_type": "code",
      "execution_count": null,
      "metadata": {
        "id": "CumXrWs7ojyX"
      },
      "outputs": [],
      "source": [
        "soil_unbalance_limit = 0 #@param [0, \"1/3\"] {type:\"raw\"}\n",
        "\n",
        "config = get_eruption_config()\n",
        "config.soil_unbalance_limit = soil_unbalance_limit\n",
        "etd = config.etd\n",
        "# Create the exclusive fs\n",
        "excl_fs = make_eruption_excl_fs(etd)\n",
        "\n",
        "print(config)"
      ]
    },
    {
      "cell_type": "markdown",
      "metadata": {
        "id": "YGTtspbtkMa_"
      },
      "source": [
        "## Port old trained DNA to a DNA that contains more env types"
      ]
    },
    {
      "cell_type": "code",
      "execution_count": null,
      "metadata": {
        "id": "IVbcB-lpkMbA"
      },
      "outputs": [],
      "source": [
        "agent_model = \"extended\"\n",
        "agent_logic = BasicAgentLogic(config, minimal_net=agent_model==\"minimal\")\n",
        "\n",
        "mutator_type = \"randomly_adaptive\" #@param ['basic', 'randomly_adaptive']\n",
        "sd = 1e-3\n",
        "mutator = (BasicMutator(sd=sd, change_perc=0.2) if mutator_type == \"basic\"\n",
        "           else RandomlyAdaptiveMutator(init_sd=sd, change_perc=0.2))\n",
        "\n",
        "old_env_and_config = evm.get_env_and_config(\n",
        "    \"persistence\", width_type=\"landscape\", h=16)\n",
        "old_config = old_env_and_config[1]\n",
        "old_logic = BasicAgentLogic(old_config, minimal_net=agent_model == \"minimal\")\n",
        "\n",
        "updated_tiny_dna = adapt_dna_to_different_basic_logic(\n",
        "    tiny_dna, old_logic, agent_logic)\n",
        "print(updated_tiny_dna.shape)"
      ]
    },
    {
      "cell_type": "markdown",
      "metadata": {
        "id": "F8aDDthTGQ4j"
      },
      "source": [
        "## Lava endurance tests"
      ]
    },
    {
      "cell_type": "markdown",
      "metadata": {
        "id": "H1TWyBRQqC3C"
      },
      "source": [
        "### init, sd=1e-4"
      ]
    },
    {
      "cell_type": "code",
      "execution_count": null,
      "metadata": {
        "id": "3fZNFqGufw4u"
      },
      "outputs": [],
      "source": [
        "key = jr.PRNGKey(42)\n",
        "h = 72\n",
        "w = evm.infer_width(h, \"landscape\")\n",
        "env = evm.create_default_environment(config, h, w)\n",
        "env = evm.place_seed(env, w//2, config)\n",
        "\n",
        "sd = 1e-4\n",
        "mutator = RandomlyAdaptiveMutator(init_sd=sd, change_perc=0.2)\n",
        "\n",
        "# enhance the dna with mutator params.\n",
        "key, ku = jr.split(key)\n",
        "init_dna = agent_logic.initialize(ku)\n",
        "key, ku = jr.split(key)\n",
        "init_dna = mutator.initialize(ku, init_dna)\n",
        "\n",
        "test_freq_lava(key, env, config, init_dna, agent_logic, mutator)\n",
        "test_wave_lava(key, env, config, init_dna, agent_logic, mutator)"
      ]
    },
    {
      "cell_type": "markdown",
      "metadata": {
        "id": "oocwbtBsp_aI"
      },
      "source": [
        "### init, sd=1e-3"
      ]
    },
    {
      "cell_type": "code",
      "execution_count": null,
      "metadata": {
        "id": "ZhCCJjoYplhP"
      },
      "outputs": [],
      "source": [
        "key = jr.PRNGKey(42)\n",
        "h = 72\n",
        "w = evm.infer_width(h, \"landscape\")\n",
        "env = evm.create_default_environment(config, h, w)\n",
        "env = evm.place_seed(env, w//2, config)\n",
        "\n",
        "sd = 1e-3\n",
        "mutator = RandomlyAdaptiveMutator(init_sd=sd, change_perc=0.2)\n",
        "\n",
        "# enhance the dna with mutator params.\n",
        "key, ku = jr.split(key)\n",
        "init_dna = agent_logic.initialize(ku)\n",
        "key, ku = jr.split(key)\n",
        "init_dna = mutator.initialize(ku, init_dna)\n",
        "\n",
        "test_freq_lava(key, env, config, init_dna, agent_logic, mutator)\n",
        "test_wave_lava(key, env, config, init_dna, agent_logic, mutator)"
      ]
    },
    {
      "cell_type": "markdown",
      "metadata": {
        "id": "Nraogv2NEkc7"
      },
      "source": [
        "### tinydna, big world, 1e-4"
      ]
    },
    {
      "cell_type": "code",
      "execution_count": null,
      "metadata": {
        "id": "RpZtsb2XEjrr"
      },
      "outputs": [],
      "source": [
        "key = jr.PRNGKey(42)\n",
        "h = 72\n",
        "w = evm.infer_width(h, \"landscape\")\n",
        "env = evm.create_default_environment(config, h, w)\n",
        "env = evm.place_seed(env, w//2, config)\n",
        "\n",
        "sd = 1e-4\n",
        "mutator = RandomlyAdaptiveMutator(init_sd=sd, change_perc=0.2)\n",
        "# enhance the dna with mutator params.\n",
        "key, ku = jr.split(key)\n",
        "init_dna = mutator.initialize(ku, updated_tiny_dna)\n",
        "\n",
        "zoom_sz = 8\n",
        "test_freq_lava(key, env, config, init_dna, agent_logic, mutator, zoom_sz=zoom_sz)\n",
        "test_wave_lava(key, env, config, init_dna, agent_logic, mutator, zoom_sz=zoom_sz)"
      ]
    },
    {
      "cell_type": "markdown",
      "metadata": {
        "id": "Cq24MSa4q-Mc"
      },
      "source": [
        "### tinydna, big world, sd=1e-3"
      ]
    },
    {
      "cell_type": "code",
      "execution_count": null,
      "metadata": {
        "id": "ufZu0o-Eq5C3"
      },
      "outputs": [],
      "source": [
        "key = jr.PRNGKey(42)\n",
        "h = 72\n",
        "w = evm.infer_width(h, \"landscape\")\n",
        "env = evm.create_default_environment(config, h, w)\n",
        "env = evm.place_seed(env, w//2, config)\n",
        "\n",
        "sd = 1e-3\n",
        "mutator = RandomlyAdaptiveMutator(init_sd=sd, change_perc=0.2)\n",
        "# enhance the dna with mutator params.\n",
        "key, ku = jr.split(key)\n",
        "init_dna = mutator.initialize(ku, updated_tiny_dna)\n",
        "\n",
        "zoom_sz = 8\n",
        "test_freq_lava(key, env, config, init_dna, agent_logic, mutator, zoom_sz=zoom_sz)\n",
        "test_wave_lava(key, env, config, init_dna, agent_logic, mutator, zoom_sz=zoom_sz)"
      ]
    },
    {
      "cell_type": "markdown",
      "metadata": {
        "id": "o0qucUQuII7D"
      },
      "source": [
        "### Smaller worlds, 1e-4"
      ]
    },
    {
      "cell_type": "code",
      "execution_count": null,
      "metadata": {
        "id": "tbdbVyYdII7D"
      },
      "outputs": [],
      "source": [
        "key = jr.PRNGKey(42)\n",
        "h = 36\n",
        "w = evm.infer_width(h, \"landscape\")\n",
        "env = evm.create_default_environment(config, h, w)\n",
        "env = evm.place_seed(env, w//2, config)\n",
        "\n",
        "sd = 1e-4\n",
        "mutator = RandomlyAdaptiveMutator(init_sd=sd, change_perc=0.2)\n",
        "# enhance the dna with mutator params.\n",
        "key, ku = jr.split(key)\n",
        "init_dna = mutator.initialize(ku, updated_tiny_dna)\n",
        "\n",
        "zoom_sz = 16\n",
        "test_freq_lava(key, env, config, init_dna, agent_logic, mutator, zoom_sz=zoom_sz)\n",
        "test_wave_lava(key, env, config, init_dna, agent_logic, mutator, zoom_sz=zoom_sz)"
      ]
    },
    {
      "cell_type": "markdown",
      "metadata": {
        "id": "EBl7YuwOII7D"
      },
      "source": [
        "### small, sd=1e-3"
      ]
    },
    {
      "cell_type": "code",
      "execution_count": null,
      "metadata": {
        "id": "ZPpAQAmpII7D"
      },
      "outputs": [],
      "source": [
        "key = jr.PRNGKey(42)\n",
        "h = 36\n",
        "w = evm.infer_width(h, \"landscape\")\n",
        "env = evm.create_default_environment(config, h, w)\n",
        "env = evm.place_seed(env, w//2, config)\n",
        "\n",
        "sd = 1e-3\n",
        "mutator = RandomlyAdaptiveMutator(init_sd=sd, change_perc=0.2)\n",
        "# enhance the dna with mutator params.\n",
        "key, ku = jr.split(key)\n",
        "init_dna = mutator.initialize(ku, updated_tiny_dna)\n",
        "\n",
        "zoom_sz = 16\n",
        "test_freq_lava(key, env, config, init_dna, agent_logic, mutator, zoom_sz=zoom_sz)\n",
        "test_wave_lava(key, env, config, init_dna, agent_logic, mutator, zoom_sz=zoom_sz)"
      ]
    },
    {
      "cell_type": "markdown",
      "metadata": {
        "id": "ay0bLcE3ql3k"
      },
      "source": [
        "## Large, diverse environment\n",
        "Center: nothing\n",
        "\n",
        "Left: waves of lots of lava. note that a wave arrives as a random event now, not a predetermined frequency.\n",
        "\n",
        "Right: constant little lava"
      ]
    },
    {
      "cell_type": "code",
      "execution_count": null,
      "metadata": {
        "id": "VC_6vL-Xql3q"
      },
      "outputs": [],
      "source": [
        "agent_model = \"extended\" #@param ['minimal', 'extended']\n",
        "agent_logic = BasicAgentLogic(config, minimal_net=agent_model==\"minimal\")\n",
        "\n",
        "mutator_type = \"randomly_adaptive\" #@param ['basic', 'randomly_adaptive']\n",
        "sd = 1e-3 #@param ['1e-3', '1e-4'] {type:\"raw\"}\n",
        "mutator = (BasicMutator(sd=sd, change_perc=0.2) if mutator_type == \"basic\"\n",
        "           else RandomlyAdaptiveMutator(init_sd=sd, change_perc=0.2))"
      ]
    },
    {
      "cell_type": "markdown",
      "metadata": {
        "id": "FpWCdi2GHeoS"
      },
      "source": [
        "### Testing init on a regular height (72)"
      ]
    },
    {
      "cell_type": "code",
      "execution_count": null,
      "metadata": {
        "id": "JawG5qGMHeoe"
      },
      "outputs": [],
      "source": [
        "# first just initialize the environment to a certain state, without making videos.\n",
        "key = jr.PRNGKey(47)\n",
        "\n",
        "h = 72\n",
        "\n",
        "n_steps = 50000\n",
        "\n",
        "use_tiny_dna = False\n",
        "\n",
        "if use_tiny_dna:\n",
        "  program = updated_tiny_dna\n",
        "else:\n",
        "  ku, key = jr.split(key)\n",
        "  program = agent_logic.initialize(ku)\n",
        "\n",
        "ku, key = jr.split(key)\n",
        "program = mutator.initialize(ku, program)\n",
        "\n",
        "# 128 is TOO SMALL!\n",
        "N_MAX_PROGRAMS = 256\n",
        "\n",
        "programs = jp.repeat(program[None, :], N_MAX_PROGRAMS, axis=0)\n",
        "\n",
        "env = create_eruption_env(h, config)\n",
        "ku, key = jr.split(key)\n",
        "programs, env = run_eruption_env(\n",
        "    ku, config, programs, env, agent_logic, mutator, n_steps, zoom_sz=6)\n"
      ]
    },
    {
      "cell_type": "code",
      "execution_count": null,
      "metadata": {
        "id": "jq-haImhJf0l"
      },
      "outputs": [],
      "source": [
        "# continue...\n",
        "n_steps = 50000\n",
        "ku, key = jr.split(key)\n",
        "programs, env = run_eruption_env(\n",
        "    ku, config, programs, env, agent_logic, mutator, n_steps, zoom_sz=6,\n",
        "    steps_per_frame=64, when_to_double_speed=[])"
      ]
    },
    {
      "cell_type": "markdown",
      "metadata": {
        "id": "WiFLI7fAPNWF"
      },
      "source": [
        "### Testing tiny_dna on a small height (36)"
      ]
    },
    {
      "cell_type": "code",
      "execution_count": null,
      "metadata": {
        "id": "tSbqf1Faql3q"
      },
      "outputs": [],
      "source": [
        "# first just initialize the environment to a certain state, without making videos.\n",
        "key = jr.PRNGKey(42)\n",
        "\n",
        "h = 36\n",
        "\n",
        "n_steps = 100000\n",
        "\n",
        "use_tiny_dna = True\n",
        "\n",
        "if use_tiny_dna:\n",
        "  program = updated_tiny_dna\n",
        "else:\n",
        "  ku, key = jr.split(key)\n",
        "  program = agent_logic.initialize(ku)\n",
        "ku, key = jr.split(key)\n",
        "program = mutator.initialize(ku, program)\n",
        "ku, key = jr.split(key)\n",
        "\n",
        "\n",
        "# 128 is TOO SMALL!\n",
        "N_MAX_PROGRAMS = 256\n",
        "\n",
        "programs = jp.repeat(program[None, :], N_MAX_PROGRAMS, axis=0)\n",
        "\n",
        "env = create_eruption_env(h, config)\n",
        "ku, key = jr.split(key)\n",
        "programs, env = run_eruption_env(\n",
        "    ku, config, programs, env, agent_logic, mutator, n_steps, zoom_sz=12)\n"
      ]
    },
    {
      "cell_type": "code",
      "execution_count": null,
      "metadata": {
        "id": "0v-T-EzGF2wh"
      },
      "outputs": [],
      "source": [
        "# If the video is too big, and trying to run it crashes the runtime, perform a\n",
        "# manual download.\n",
        "from colabtools import fileedit\n",
        "fileedit.download_file('video.mp4', ephemeral=True)"
      ]
    },
    {
      "cell_type": "markdown",
      "metadata": {
        "id": "4mtJeIeUPR2z"
      },
      "source": [
        "### Testing tiny_dna on a regular height (72)"
      ]
    },
    {
      "cell_type": "code",
      "execution_count": null,
      "metadata": {
        "id": "q0WUIyEVLbBv"
      },
      "outputs": [],
      "source": [
        "# first just initialize the environment to a certain state, without making videos.\n",
        "#key = jr.PRNGKey(42)  # half failure. Some promising mutations but ultimately, fail.\n",
        "key = jr.PRNGKey(137)\n",
        "\n",
        "h = 72\n",
        "\n",
        "n_steps = 50000\n",
        "\n",
        "use_tiny_dna = True\n",
        "\n",
        "if use_tiny_dna:\n",
        "  program = updated_tiny_dna\n",
        "else:\n",
        "  ku, key = jr.split(key)\n",
        "  program = agent_logic.initialize(ku)\n",
        "\n",
        "ku, key = jr.split(key)\n",
        "program = mutator.initialize(ku, program)\n",
        "\n",
        "# 128 is TOO SMALL!\n",
        "N_MAX_PROGRAMS = 256\n",
        "\n",
        "programs = jp.repeat(program[None, :], N_MAX_PROGRAMS, axis=0)\n",
        "\n",
        "env = create_eruption_env(h, config)\n",
        "ku, key = jr.split(key)\n",
        "programs, env = run_eruption_env(\n",
        "    ku, config, programs, env, agent_logic, mutator, n_steps, zoom_sz=6)\n"
      ]
    },
    {
      "cell_type": "code",
      "execution_count": null,
      "metadata": {
        "id": "nfUj1iWwNmIE"
      },
      "outputs": [],
      "source": [
        "# continue...\n",
        "n_steps = 50000\n",
        "ku, key = jr.split(key)\n",
        "programs, env = run_eruption_env(\n",
        "    ku, config, programs, env, agent_logic, mutator, n_steps, zoom_sz=6,\n",
        "    steps_per_frame=64, when_to_double_speed=[])"
      ]
    },
    {
      "cell_type": "markdown",
      "metadata": {
        "id": "QQ4d6uSCdkaq"
      },
      "source": [
        "### Extra: extract the surviving plants and evaluate them"
      ]
    },
    {
      "cell_type": "code",
      "execution_count": null,
      "metadata": {
        "id": "40rQiRTZdjdl"
      },
      "outputs": [],
      "source": [
        "# Extract a living program from the final environment\n",
        "def extract_alive_agents_sorted(env, programs):\n",
        "  aid_flat = env.agent_id_grid.flatten()\n",
        "  is_agent_flat = config.etd.is_agent_fn(env.type_grid).flatten().astype(jp.float32)\n",
        "  n_alive_per_id = jax.ops.segment_sum(is_agent_flat, aid_flat, num_segments=programs.shape[0])\n",
        "\n",
        "  h, w = env.agent_id_grid.shape\n",
        "  agent_wpos_flat = jp.repeat(jp.arange(w)[None,:], h, axis=0).flatten()\n",
        "  min_w_per_id = jax.ops.segment_min(\n",
        "      agent_wpos_flat +\n",
        "       (1 - is_agent_flat) * w  # if you are not an agent, put it high as a filter.\n",
        "      , aid_flat, num_segments=programs.shape[0])\n",
        "\n",
        "  alive_mask = n_alive_per_id\u003e0\n",
        "  alive_programs = programs[alive_mask]\n",
        "  alive_minw = min_w_per_id[alive_mask]\n",
        "\n",
        "  sorted_idx = jp.argsort(alive_minw)\n",
        "  return alive_programs[sorted_idx], alive_minw[sorted_idx]\n",
        "\n",
        "alive_programs, alive_minw = extract_alive_agents_sorted(env, programs)\n",
        "print(alive_programs.shape)"
      ]
    },
    {
      "cell_type": "code",
      "execution_count": null,
      "metadata": {
        "id": "v9mfmJ4nh-n5"
      },
      "outputs": [],
      "source": [
        "# test the leftmost alive program\n",
        "key = jr.PRNGKey(42)\n",
        "h = 72\n",
        "w = evm.infer_width(h, \"landscape\")\n",
        "test_env = evm.create_default_environment(config, h, w)\n",
        "test_env = evm.place_seed(test_env, w//2, config)\n",
        "\n",
        "dna_test = alive_programs[0]\n",
        "key, ku = jr.split(key)\n",
        "test_freq_lava(ku, test_env, config, dna_test, agent_logic, mutator)\n",
        "key, ku = jr.split(key)\n",
        "test_wave_lava(ku, test_env, config, dna_test, agent_logic, mutator)"
      ]
    },
    {
      "cell_type": "code",
      "execution_count": null,
      "metadata": {
        "id": "70XXzqNSnACt"
      },
      "outputs": [],
      "source": [
        "# test the rightmost alive program\n",
        "key = jr.PRNGKey(42)\n",
        "h = 72\n",
        "w = evm.infer_width(h, \"landscape\")\n",
        "test_env = evm.create_default_environment(config, h, w)\n",
        "test_env = evm.place_seed(test_env, w//2, config)\n",
        "\n",
        "dna_test = alive_programs[-1]\n",
        "key, ku = jr.split(key)\n",
        "test_freq_lava(ku, test_env, config, dna_test, agent_logic, mutator)\n",
        "key, ku = jr.split(key)\n",
        "test_wave_lava(ku, test_env, config, dna_test, agent_logic, mutator)"
      ]
    },
    {
      "cell_type": "markdown",
      "metadata": {
        "id": "bJ3jszIMovj8"
      },
      "source": [
        "### Extra: see what happens after 50k more steps"
      ]
    },
    {
      "cell_type": "code",
      "execution_count": null,
      "metadata": {
        "id": "V6p7qW_GVOzH"
      },
      "outputs": [],
      "source": [
        "# continue...\n",
        "n_steps = 50000\n",
        "ku, key = jr.split(key)\n",
        "next_programs, next_env = run_eruption_env(\n",
        "    ku, config, programs, env, agent_logic, mutator, n_steps, zoom_sz=6,\n",
        "    steps_per_frame=64, when_to_double_speed=[])"
      ]
    },
    {
      "cell_type": "markdown",
      "metadata": {
        "id": "fnIQz__-h9ON"
      },
      "source": [
        "## Example for a (failing) Petri dish meta-evolution\n",
        "\n",
        "Using half the width of landscape, so that you can show before/after in the same video.\n"
      ]
    },
    {
      "cell_type": "code",
      "execution_count": null,
      "metadata": {
        "id": "BLQHRQx-iK2f"
      },
      "outputs": [],
      "source": [
        "# Let's use less tall environments, so that we can scale it later on to be very very wide.\n",
        "ec_id = \"persistence\"\n",
        "env_width_type = \"landscape\"\n",
        "h = 72\n",
        "env_width_type = evm.infer_width(h, \"landscape\") // 2 # half 16:9\n",
        "env_and_config = evm.get_env_and_config(ec_id, width_type=env_width_type, h=h,\n",
        "                                        etd=etd)\n",
        "st_env, config = env_and_config\n",
        "\n",
        "w = st_env.type_grid.shape[1]\n",
        "\n",
        "agent_model = \"extended\" #@param ['minimal', 'extended']\n",
        "agent_logic = BasicAgentLogic(config, minimal_net=agent_model==\"minimal\")\n",
        "\n",
        "petri_lava_perc = jp.full([w], 0.005)"
      ]
    },
    {
      "cell_type": "code",
      "execution_count": null,
      "metadata": {
        "id": "Ld0V8_M2jr6k"
      },
      "outputs": [],
      "source": [
        "\n",
        "def visualize_petri_run(key, programs, agent_logic, st_env, config, n_steps,\n",
        "                  init_steps_per_frame=2,\n",
        "                  when_to_double_speed=[100, 500, 1000, 2000, 5000],\n",
        "                  fps=20,\n",
        "                  zoom_sz=8):\n",
        "  env = st_env\n",
        "  steps_per_frame = init_steps_per_frame\n",
        "\n",
        "  def make_frame(env):\n",
        "    return zoom(evm.grab_image_from_env(env, config), zoom_sz)\n",
        "\n",
        "  frame = make_frame(env)\n",
        "\n",
        "  out_file = \"video.mp4\"\n",
        "  with media.VideoWriter(out_file, shape=frame.shape[:2], fps=fps,\n",
        "                         crf=18) as video:\n",
        "    for i in tqdm.trange(n_steps):\n",
        "      if i in when_to_double_speed:\n",
        "        steps_per_frame *= 2\n",
        "\n",
        "      key, k1 = jr.split(key)\n",
        "      env = update_slice_with_lava(k1, env, 1, 0, petri_lava_perc, etd)\n",
        "      key, ku = jr.split(key)\n",
        "      env, n_successful_repr = step_env(\n",
        "          ku, env, config, agent_logic, programs, do_reproduction=True,\n",
        "          mutate_programs=False, intercept_reproduction=True,\n",
        "          min_repr_energy_requirement=jp.zeros([2]), # we don't care about it here.\n",
        "          excl_fs=excl_fs)\n",
        "\n",
        "      if i % steps_per_frame == 0:\n",
        "        video.add_image(make_frame(env))\n",
        "\n",
        "  media.show_video(media.read_video(out_file))"
      ]
    },
    {
      "cell_type": "markdown",
      "metadata": {
        "id": "kFIJqxpiva4y"
      },
      "source": [
        "### Show an example petri run"
      ]
    },
    {
      "cell_type": "code",
      "execution_count": null,
      "metadata": {
        "id": "Ox6Mz_PWvZxW"
      },
      "outputs": [],
      "source": [
        "# visualize the result in a petri world first.\n",
        "key = jr.PRNGKey(43)\n",
        "\n",
        "# How many unique programs (organisms) are allowed in the simulation.\n",
        "N_MAX_PROGRAMS = 128\n",
        "\n",
        "n_steps = 2000\n",
        "\n",
        "# initialize params\n",
        "ku, key = jr.split(key)\n",
        "init_program = agent_logic.initialize(ku)\n",
        "programs = jp.repeat(init_program[None,:], N_MAX_PROGRAMS, axis=0)\n",
        "\n",
        "ku, key = jr.split(key)\n",
        "visualize_petri_run(ku, programs, agent_logic, st_env, config, n_steps)\n"
      ]
    },
    {
      "cell_type": "markdown",
      "metadata": {
        "id": "KsNrr4H-vgPQ"
      },
      "source": [
        "### Meta evolve with petri"
      ]
    },
    {
      "cell_type": "code",
      "execution_count": null,
      "metadata": {
        "id": "QU3k1qUErgfu"
      },
      "outputs": [],
      "source": [
        "from evojax.algo import PGPE\n",
        "\n",
        "key = jr.PRNGKey(137)\n",
        "\n",
        "\n",
        "n_steps = 2000\n",
        "\n",
        "# initialize params\n",
        "ku, key = jr.split(key)\n",
        "init_program = agent_logic.initialize(ku)\n",
        "# don't use a mutator!\n",
        "\n",
        "pop_size = 64 # if you run out of memory, decrease this.\n",
        "ku, key = jr.split(key)\n",
        "solver = PGPE(\n",
        "    pop_size=pop_size,\n",
        "    param_size=init_program.shape[0],\n",
        "    optimizer='adam',\n",
        "    center_learning_rate=0.001,\n",
        "    stdev_learning_rate=0.001,\n",
        "    stdev_max_change=0.002,\n",
        "    seed=ku[0],\n",
        "    init_params=init_program,\n",
        "    init_stdev=0.001,\n",
        ")\n",
        "\n",
        "n_max_programs = 1 # No reproduction occurs, after all.\n",
        "\n",
        "# how many agents we want in the environment at any point in time.\n",
        "# For a change, let's aim at a lot here.\n",
        "n_agent_target = 200\n",
        "min_repr_energy_requirement = (config.dissipation_per_step * 4) + config.specialize_cost * 2\n",
        "\n",
        "def count_agents_f(env, etd):\n",
        "  return etd.is_agent_fn(env.type_grid).sum()\n",
        "\n",
        "\n",
        "@jit\n",
        "def fitness_f(key, program):\n",
        "  def body_f(i, carry):\n",
        "    key, env, fit = carry\n",
        "\n",
        "    key, k1 = jr.split(key)\n",
        "    env = update_slice_with_lava(k1, env, 1, 0, petri_lava_perc, etd)\n",
        "    key, keyused = jr.split(key)\n",
        "    new_env, n_successful_repr = step_env(\n",
        "        keyused, env, config, agent_logic, program[None,:], do_reproduction=True,\n",
        "          mutate_programs=False, intercept_reproduction=True,\n",
        "        min_repr_energy_requirement=min_repr_energy_requirement,\n",
        "        excl_fs=excl_fs)\n",
        "\n",
        "    n_agent_fit = -jp.abs(n_agent_target - count_agents_f(new_env, config.etd))\n",
        "    repr_fit = n_successful_repr * n_agent_target * 4\n",
        "\n",
        "    fit = fit + n_agent_fit + repr_fit\n",
        "    return key, new_env, fit\n",
        "\n",
        "  # process the integrity first\n",
        "  env = process_structural_integrity_n_times(st_env, config, 10)\n",
        "  _, f_env, fit = jax.lax.fori_loop(0, n_steps, body_f, (key, env, 0.))\n",
        "  return fit / n_steps\n",
        "\n",
        "@jit\n",
        "def v_fitness_f(key, v_params):\n",
        "  return vmap(fitness_f)(jr.split(key, pop_size), v_params)\n",
        "\n",
        "mean_fit_log = []\n",
        "max_fit_log = []"
      ]
    },
    {
      "cell_type": "code",
      "execution_count": null,
      "metadata": {
        "id": "qJ__Kczbrgfu"
      },
      "outputs": [],
      "source": [
        "\n",
        "for _ in range(30):\n",
        "  # sample\n",
        "  programs = solver.ask()\n",
        "  # eval\n",
        "  key, k1 = jr.split(key)\n",
        "  fitness = v_fitness_f(k1, programs)\n",
        "  # update\n",
        "  solver.tell(fitness)\n",
        "\n",
        "  mean_fitness = fitness.mean()\n",
        "  max_fitness = fitness.max()\n",
        "  mean_fit_log.append(mean_fitness)\n",
        "  max_fit_log.append(max_fitness)\n",
        "  print(mean_fitness, max_fitness)\n",
        "  if len(mean_fit_log) % 10 == 0:\n",
        "    clear_output()\n",
        "    plt.plot(mean_fit_log, label=\"mean_fitness\")\n",
        "    plt.plot(max_fit_log, label=\"max_fitness\")\n",
        "    plt.legend()\n",
        "    plt.show()"
      ]
    },
    {
      "cell_type": "markdown",
      "metadata": {
        "id": "1mH34fsIyO4i"
      },
      "source": [
        "### meta-evolved petri run"
      ]
    },
    {
      "cell_type": "code",
      "execution_count": null,
      "metadata": {
        "id": "7ZcC1q-5oHB-"
      },
      "outputs": [],
      "source": [
        "# visualize the result in a petri world first.\n",
        "key = jr.PRNGKey(42)\n",
        "\n",
        "# How many unique programs (organisms) are allowed in the simulation.\n",
        "N_MAX_PROGRAMS = 128\n",
        "\n",
        "n_steps = 2000\n",
        "\n",
        "programs = jp.repeat(solver.best_params[None,:], N_MAX_PROGRAMS, axis=0)\n",
        "\n",
        "ku, key = jr.split(key)\n",
        "visualize_petri_run(ku, programs, agent_logic, st_env, config, n_steps)\n"
      ]
    },
    {
      "cell_type": "markdown",
      "metadata": {
        "id": "35047Y6Yywzv"
      },
      "source": [
        "### Test the result"
      ]
    },
    {
      "cell_type": "code",
      "execution_count": null,
      "metadata": {
        "id": "G_qNVS9yyv_1"
      },
      "outputs": [],
      "source": [
        "mutator_type = \"randomly_adaptive\" #@param ['basic', 'randomly_adaptive']\n",
        "# try a smaller sd in general.\n",
        "sd = 1e-4\n",
        "mutator = (BasicMutator(sd=sd, change_perc=0.2) if mutator_type == \"basic\"\n",
        "           else RandomlyAdaptiveMutator(init_sd=sd, change_perc=0.2))\n",
        "\n",
        "key = jr.PRNGKey(42)\n",
        "h = 72\n",
        "w = evm.infer_width(h, \"landscape\")\n",
        "test_env = evm.create_default_environment(config, h, w)\n",
        "test_env = evm.place_seed(test_env, w//2, config)\n",
        "\n",
        "dna_test = solver.best_params\n",
        "\n",
        "key, ku = jr.split(key)\n",
        "dna_test = mutator.initialize(ku, dna_test)\n",
        "\n",
        "key, ku = jr.split(key)\n",
        "test_freq_lava(ku, test_env, config, dna_test, agent_logic, mutator)\n",
        "key, ku = jr.split(key)\n",
        "test_wave_lava(ku, test_env, config, dna_test, agent_logic, mutator)"
      ]
    }
  ],
  "metadata": {
    "accelerator": "GPU",
    "colab": {
      "gpuType": "V100",
      "last_runtime": {
        "build_target": "//learning/grp/tools/ml_python:ml_notebook",
        "kind": "private"
      },
      "machine_shape": "hm",
      "private_outputs": true,
      "provenance": [
        {
          "file_id": "15BbIS0lqNYywnD4qI4xzAYILR03oOdnJ",
          "timestamp": 1698746031105
        },
        {
          "file_id": "/piper/depot/google3/third_party/py/self_organising_systems/biomakerca/examples/notebooks/run_configuration.ipynb?workspaceId=etr:biomaker::citc",
          "timestamp": 1693569005784
        },
        {
          "file_id": "1ADfcMRj-JmfN6VUIcuqU-3bTMGrWSkj_",
          "timestamp": 1688723295778
        },
        {
          "file_id": "1XY102qIEc9MY9hd-Jb6Oirmyw7ga2LZL",
          "timestamp": 1688637712371
        }
      ],
      "toc_visible": true
    },
    "kernelspec": {
      "display_name": "Python 3",
      "name": "python3"
    },
    "language_info": {
      "name": "python"
    }
  },
  "nbformat": 4,
  "nbformat_minor": 0
}
