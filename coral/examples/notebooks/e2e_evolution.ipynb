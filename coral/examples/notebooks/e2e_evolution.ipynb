{
  "cells": [
    {
      "cell_type": "markdown",
      "metadata": {
        "id": "LpQvs2DVfkVy"
      },
      "source": [
        "# Biomaker CA: End-to-end meta-evolution\n",
        "\n",
        "In this colab we show how to perform end-to-end meta-evolution on a configuration.\n",
        "\n",
        "Copyright 2023 Google LLC\n",
        "\n",
        "Licensed under the Apache License, Version 2.0 (the \"License\");\n",
        "you may not use this file except in compliance with the License.\n",
        "You may obtain a copy of the License at\n",
        "\n",
        "    https://www.apache.org/licenses/LICENSE-2.0\n",
        "\n",
        "Unless required by applicable law or agreed to in writing, software\n",
        "distributed under the License is distributed on an \"AS IS\" BASIS,\n",
        "WITHOUT WARRANTIES OR CONDITIONS OF ANY KIND, either express or implied.\n",
        "See the License for the specific language governing permissions and\n",
        "limitations under the License."
      ]
    },
    {
      "cell_type": "markdown",
      "metadata": {
        "id": "iuhJcrwNgIEF"
      },
      "source": [
        "## Imports"
      ]
    },
    {
      "cell_type": "code",
      "execution_count": null,
      "metadata": {
        "id": "287RU0sup5J2"
      },
      "outputs": [],
      "source": [
        "#@title install selforg package\n",
        "# install the package locally\n",
        "!pip install --upgrade -e git+https://github.com/google-research/self-organising-systems.git#egg=self_organising_systems\u0026subdirectory=biomakerca\n",
        "# activate the locally installed package (otherwise a runtime restart is required)\n",
        "import pkg_resources\n",
        "import importlib\n",
        "# Reload the resources because we uninstalled and reinstalled some packages.\n",
        "importlib.reload(pkg_resources)\n",
        "pkg_resources.get_distribution(\"self_organising_systems\").activate()"
      ]
    },
    {
      "cell_type": "code",
      "execution_count": null,
      "metadata": {
        "id": "DY7J0cz7NUCV"
      },
      "outputs": [],
      "source": [
        "#@title imports \u0026 notebook utilities\n",
        "from self_organising_systems.biomakerca import environments as evm\n",
        "from self_organising_systems.biomakerca.agent_logic import BasicAgentLogic\n",
        "from self_organising_systems.biomakerca.mutators import BasicMutator\n",
        "from self_organising_systems.biomakerca.mutators import RandomlyAdaptiveMutator\n",
        "from self_organising_systems.biomakerca.step_maker import step_env\n",
        "from self_organising_systems.biomakerca.display_utils import zoom\n",
        "from self_organising_systems.biomakerca.custom_ipython_display import display\n",
        "\n",
        "import cv2\n",
        "import numpy as np\n",
        "import jax.random as jr\n",
        "import jax.numpy as jp\n",
        "from jax import vmap\n",
        "from jax import jit\n",
        "import jax\n",
        "import time\n",
        "\n",
        "import tqdm\n",
        "import mediapy as media\n",
        "from functools import partial\n",
        "from IPython.display import clear_output\n",
        "import matplotlib.pyplot as plt\n",
        "\n",
        "\n",
        "def pad_text(img, text):\n",
        "  font = cv2.FONT_HERSHEY_SIMPLEX\n",
        "  orgin = (5, 15)\n",
        "  fontScale = 0.5\n",
        "  color = (0, 0, 0)\n",
        "  thickness = 1\n",
        "\n",
        "  # ensure to preserve even size (assumes the input size was even.\n",
        "  new_h = img.shape[0]//15\n",
        "  new_h = new_h if new_h % 2 == 0  else new_h + 1\n",
        "  img = np.concatenate([np.ones([new_h, img.shape[1], img.shape[2]]), img], 0)\n",
        "  img = cv2.putText(img, text, orgin, font, fontScale, color, thickness, cv2.LINE_AA)\n",
        "  return img"
      ]
    },
    {
      "cell_type": "markdown",
      "metadata": {
        "id": "aRRMQ1aNhqv6"
      },
      "source": [
        "## Select the configuration, the agent logic and the mutator"
      ]
    },
    {
      "cell_type": "code",
      "execution_count": null,
      "metadata": {
        "id": "dtc32MAfOBTK"
      },
      "outputs": [],
      "source": [
        "ec_id = \"pestilence\" #@param ['persistence', 'pestilence', 'collaboration', 'sideways']\n",
        "env_width_type = \"landscape\" #@param ['wide', 'landscape', 'square', 'petri']\n",
        "env_and_config = evm.get_env_and_config(ec_id, width_type=env_width_type)\n",
        "st_env, config = env_and_config\n",
        "\n",
        "agent_model = \"extended\" #@param ['minimal', 'extended']\n",
        "agent_logic = BasicAgentLogic(config, minimal_net=agent_model==\"minimal\")\n",
        "\n",
        "mutator_type = \"basic\" #@param ['basic', 'randomly_adaptive']\n",
        "sd = 1e-2 if mutator_type == \"basic\" and agent_model == \"basic\" else 1e-3\n",
        "mutator = (BasicMutator(sd=sd, change_perc=0.2) if mutator_type == \"basic\"\n",
        "           else RandomlyAdaptiveMutator(init_sd=sd, change_perc=0.2))"
      ]
    },
    {
      "cell_type": "markdown",
      "metadata": {
        "id": "gj2YuWJTu4jq"
      },
      "source": [
        "## End-to-end meta-evolution"
      ]
    },
    {
      "cell_type": "code",
      "execution_count": null,
      "metadata": {
        "id": "ibvShWfEuEyn"
      },
      "outputs": [],
      "source": [
        "def count_agents_f(env, etd):\n",
        "  return etd.is_agent_fn(env.type_grid).sum()\n",
        "\n",
        "@partial(jit, static_argnames=[\"config\", \"agent_logic\", \"mutator\", \"n_steps\", \"n_max_programs\"])\n",
        "def evaluate_biome(key, st_env, config, agent_logic, mutator, n_steps,\n",
        "                   init_program=None, n_max_programs=128):\n",
        "  def body_f(i, carry):\n",
        "    key, env, programs, tot_agents_n = carry\n",
        "    ku, key = jr.split(key)\n",
        "\n",
        "    env, programs = step_env(\n",
        "        ku, env, config, agent_logic, programs, do_reproduction=True,\n",
        "          mutate_programs=True, mutator=mutator)\n",
        "\n",
        "    tot_agents_n += count_agents_f(env, config.etd)\n",
        "    return key, env, programs, tot_agents_n\n",
        "\n",
        "  if init_program is None:\n",
        "    ku, key = jr.split(key)\n",
        "    programs = vmap(agent_logic.initialize)(jr.split(ku, n_max_programs))\n",
        "    ku, key = jr.split(key)\n",
        "    programs = vmap(mutator.initialize)(jr.split(ku, programs.shape[0]), programs)\n",
        "  else:\n",
        "    programs = jp.repeat(init_program[None, :], n_max_programs, axis=0)\n",
        "\n",
        "  key, env, programs, tot_agents_n = jax.lax.fori_loop(\n",
        "      0, n_steps, body_f, (key, st_env, programs, 0))\n",
        "\n",
        "  # check whether they got extinct:\n",
        "  is_extinct = (count_agents_f(env, config.etd) == 0).astype(jp.int32)\n",
        "  return tot_agents_n, is_extinct"
      ]
    },
    {
      "cell_type": "code",
      "execution_count": null,
      "metadata": {
        "id": "48A6Wst_u7cj"
      },
      "outputs": [],
      "source": [
        "from evojax.algo import PGPE\n",
        "\n",
        "key = jr.PRNGKey(137)\n",
        "\n",
        "N_MAX_PROGRAMS = 128\n",
        "\n",
        "n_steps = 1000\n",
        "\n",
        "# initialize params\n",
        "ku, key = jr.split(key)\n",
        "init_program = agent_logic.initialize(ku)\n",
        "ku, key = jr.split(key)\n",
        "init_program = mutator.initialize(ku, init_program)\n",
        "\n",
        "\n",
        "pop_size = 32\n",
        "ku, key = jr.split(key)\n",
        "solver = PGPE(\n",
        "    pop_size=pop_size,\n",
        "    param_size=init_program.shape[0],\n",
        "    optimizer='adam',\n",
        "    center_learning_rate=0.001,\n",
        "    stdev_learning_rate=0.001,\n",
        "    stdev_max_change=0.002,\n",
        "    seed=ku[0],\n",
        "    init_params=init_program,\n",
        "    init_stdev=0.001,\n",
        ")\n",
        "\n",
        "n_max_programs = 64 # less than usual, but it doesn't really matter.\n",
        "death_penalty = 1e6\n",
        "\n",
        "@jit\n",
        "def v_fitness_f(key, v_params):\n",
        "  ku, key = jr.split(key)\n",
        "  tot_agents_n, num_deaths = vmap(partial(\n",
        "      evaluate_biome, st_env=st_env, config=config, agent_logic=agent_logic,\n",
        "      mutator=mutator, n_steps=n_steps, n_max_programs=n_max_programs))(\n",
        "          jr.split(key, pop_size), init_program=v_params)\n",
        "  fitness = tot_agents_n - num_deaths * death_penalty\n",
        "  return fitness\n",
        "\n",
        "mean_fit_log = []\n",
        "max_fit_log = []"
      ]
    },
    {
      "cell_type": "code",
      "execution_count": null,
      "metadata": {
        "id": "TQwUZuEHvWzg"
      },
      "outputs": [],
      "source": [
        "\n",
        "for _ in range(30):\n",
        "  # sample\n",
        "  programs = solver.ask()\n",
        "  # eval\n",
        "  key, k1 = jr.split(key)\n",
        "  fitness = v_fitness_f(k1, programs)\n",
        "  # update\n",
        "  solver.tell(fitness)\n",
        "\n",
        "  mean_fitness = fitness.mean()\n",
        "  max_fitness = fitness.max()\n",
        "  mean_fit_log.append(mean_fitness)\n",
        "  max_fit_log.append(max_fitness)\n",
        "  print(mean_fitness, max_fitness)\n",
        "  if len(mean_fit_log) % 10 == 0:\n",
        "    clear_output()\n",
        "    plt.plot(mean_fit_log, label=\"mean_fitness\")\n",
        "    plt.plot(max_fit_log, label=\"max_fitness\")\n",
        "    plt.legend()\n",
        "    plt.show()"
      ]
    },
    {
      "cell_type": "markdown",
      "metadata": {
        "id": "XwTB7Dqevpzu"
      },
      "source": [
        "## Evaluate the result"
      ]
    },
    {
      "cell_type": "code",
      "execution_count": null,
      "metadata": {
        "id": "10jbF0hHvoND"
      },
      "outputs": [],
      "source": [
        "n_reps = 16\n",
        "key = jr.PRNGKey(123)\n",
        "\n",
        "t_st = time.time()\n",
        "key, ku = jr.split(key)\n",
        "b_tot_agents_n, b_is_extinct = jit(vmap(partial(\n",
        "    evaluate_biome, st_env=st_env, config=config, agent_logic=agent_logic,\n",
        "    mutator=mutator, n_steps=n_steps, init_program=solver.best_params)))(jr.split(ku, n_reps))\n",
        "print(\"Took\", time.time()-t_st, \"seconds\")\n",
        "print(\"Total number of agents\", b_tot_agents_n, b_tot_agents_n.mean(), b_tot_agents_n.std())\n",
        "print(\"Extinction events\", b_is_extinct, b_is_extinct.mean(), b_is_extinct.std())"
      ]
    },
    {
      "cell_type": "markdown",
      "metadata": {
        "id": "Y-xLUg_Uh14k"
      },
      "source": [
        "## Show an example run of the result\n",
        "\n",
        "Consider modifying the code to vary the extent of the simulation and video configs."
      ]
    },
    {
      "cell_type": "code",
      "execution_count": null,
      "metadata": {
        "id": "65WC-fp1aI1Y"
      },
      "outputs": [],
      "source": [
        "\n",
        "key = jr.PRNGKey(43)\n",
        "\n",
        "# How many unique programs (organisms) are allowed in the simulation.\n",
        "N_MAX_PROGRAMS = 128\n",
        "\n",
        "# The number of frames of the video. This is NOT the number of steps.\n",
        "# The total number of steps depend on the number of steps per frame, which can\n",
        "# vary over time.\n",
        "# In the article, we generally use 500 or 750 frames.\n",
        "n_frames = 500\n",
        "\n",
        "# on what FRAME to double speed.\n",
        "when_to_double_speed = [100, 200, 300, 400, 500]\n",
        "# on what FRAME to reset speed.\n",
        "when_to_reset_speed = []\n",
        "fps = 20\n",
        "# this affects the size of the image. If this number is not even, the resulting\n",
        "# video *may* not be supported by all renderers.\n",
        "zoom_sz = 4\n",
        "\n",
        "# get the program from the solver.\n",
        "programs = jp.repeat(solver.best_params[None,:], N_MAX_PROGRAMS, axis=0)\n",
        "\n",
        "env = st_env\n",
        "\n",
        "def make_frame(env, step, speed):\n",
        "  return pad_text(zoom(evm.grab_image_from_env(env, config),zoom_sz),\n",
        "                  \"Step {:\u003c7} Speed: {}x\".format(step, speed))\n",
        "\n",
        "step = 0\n",
        "# how many steps per frame we start with. This gets usually doubled many times\n",
        "# during the simulation.\n",
        "# In the article, we usually use 2 or 4 as the starting value, sometimes 1.\n",
        "steps_per_frame = 2\n",
        "\n",
        "frame = make_frame(env, step, steps_per_frame)\n",
        "\n",
        "out_file = \"video.mp4\"\n",
        "with media.VideoWriter(out_file, shape=frame.shape[:2], fps=fps) as video:\n",
        "  video.add_image(frame)\n",
        "  for i in tqdm.trange(n_frames):\n",
        "    if i in when_to_double_speed:\n",
        "      steps_per_frame *= 2\n",
        "    if i in when_to_reset_speed:\n",
        "      steps_per_frame = 1\n",
        "    for j in range(steps_per_frame):\n",
        "      step += 1\n",
        "      key, ku = jr.split(key)\n",
        "      env, programs = step_env(\n",
        "          ku, env, config, agent_logic, programs, do_reproduction=True,\n",
        "            mutate_programs=True, mutator=mutator)\n",
        "\n",
        "    video.add_image(make_frame(env, step, steps_per_frame))\n",
        "\n",
        "media.show_video(media.read_video(out_file))"
      ]
    }
  ],
  "metadata": {
    "accelerator": "GPU",
    "colab": {
      "gpuType": "V100",
      "last_runtime": {
        "build_target": "//learning/grp/tools/ml_python:ml_notebook",
        "kind": "private"
      },
      "machine_shape": "hm",
      "private_outputs": true,
      "provenance": [
        {
          "file_id": "1xx4VPknDmcVeLNdhCbAGEaQ0sG0NNxF1",
          "timestamp": 1688723367150
        },
        {
          "file_id": "1ADfcMRj-JmfN6VUIcuqU-3bTMGrWSkj_",
          "timestamp": 1688655694830
        },
        {
          "file_id": "1XY102qIEc9MY9hd-Jb6Oirmyw7ga2LZL",
          "timestamp": 1688637712371
        }
      ],
      "toc_visible": true
    },
    "kernelspec": {
      "display_name": "Python 3",
      "name": "python3"
    },
    "language_info": {
      "name": "python"
    }
  },
  "nbformat": 4,
  "nbformat_minor": 0
}
