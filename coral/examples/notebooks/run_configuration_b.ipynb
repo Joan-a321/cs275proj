{
  "cells": [
    {
      "cell_type": "markdown",
      "metadata": {
        "id": "LpQvs2DVfkVy"
      },
      "source": [
        "# Biomaker CA: performing runs on a configuration\n",
        "\n",
        "In this colab we show how to run models on a configuration and how to evaluate them.\n",
        "\n",
        "We also show how to extract some agents at the end of a run and how to evaluate them in a fresh run.\n",
        "\n",
        "This colab is consistent with the [original paper](https://arxiv.org/abs/2307.09320). It is not forward-compatible, so make sure to install the git tagged version 'biomaker-v1.0.0'.\n",
        "\n",
        "Copyright 2023 Google LLC\n",
        "\n",
        "Licensed under the Apache License, Version 2.0 (the \"License\");\n",
        "you may not use this file except in compliance with the License.\n",
        "You may obtain a copy of the License at\n",
        "\n",
        "    https://www.apache.org/licenses/LICENSE-2.0\n",
        "\n",
        "Unless required by applicable law or agreed to in writing, software\n",
        "distributed under the License is distributed on an \"AS IS\" BASIS,\n",
        "WITHOUT WARRANTIES OR CONDITIONS OF ANY KIND, either express or implied.\n",
        "See the License for the specific language governing permissions and\n",
        "limitations under the License."
      ]
    },
    {
      "cell_type": "markdown",
      "metadata": {
        "id": "iuhJcrwNgIEF"
      },
      "source": [
        "## Imports"
      ]
    },
    {
      "cell_type": "code",
      "execution_count": null,
      "metadata": {
        "id": "u0WhscjnW0FO"
      },
      "outputs": [],
      "source": [
        "#@title install selforg package\n",
        "# install the package locally\n",
        "!pip install --upgrade -e git+https://github.com/google-research/self-organising-systems.git@biomaker-v1.0.0#egg=self_organising_systems&subdirectory=biomakerca\n",
        "# activate the locally installed package (otherwise a runtime restart is required)\n",
        "import pkg_resources\n",
        "pkg_resources.get_distribution(\"self_organising_systems\").activate()"
      ]
    },
    {
      "cell_type": "code",
      "execution_count": 1,
      "metadata": {},
      "outputs": [
        {
          "name": "stdout",
          "output_type": "stream",
          "text": [
            "/Users/joannaj/self-organising-systems/.venv/bin/python\n"
          ]
        }
      ],
      "source": [
        "import sys\n",
        "print(sys.executable)\n",
        "\n"
      ]
    },
    {
      "cell_type": "code",
      "execution_count": 7,
      "metadata": {
        "id": "DY7J0cz7NUCV"
      },
      "outputs": [],
      "source": [
        "#@title imports & notebook utilities\n",
        "from self_organising_systems.biomakerca import environments as evm\n",
        "from self_organising_systems.biomakerca.agent_logic import BasicAgentLogic\n",
        "from self_organising_systems.biomakerca.mutators import BasicMutator\n",
        "from self_organising_systems.biomakerca.mutators import RandomlyAdaptiveMutator\n",
        "from self_organising_systems.biomakerca.step_maker import step_env\n",
        "from self_organising_systems.biomakerca.display_utils import zoom\n",
        "from self_organising_systems.biomakerca.custom_ipython_display import display\n",
        "\n",
        "import cv2\n",
        "import numpy as np\n",
        "import jax.random as jr\n",
        "import jax.numpy as jp\n",
        "from jax import vmap\n",
        "from jax import jit\n",
        "import jax\n",
        "import time\n",
        "\n",
        "import tqdm\n",
        "import mediapy as media\n",
        "from functools import partial\n",
        "\n",
        "\n",
        "def pad_text(img, text):\n",
        "  font = cv2.FONT_HERSHEY_SIMPLEX\n",
        "  orgin = (5, 15)\n",
        "  fontScale = 0.5\n",
        "  color = (0, 0, 0)\n",
        "  thickness = 1\n",
        "\n",
        "  # ensure to preserve even size (assumes the input size was even.\n",
        "  new_h = img.shape[0]//15\n",
        "  new_h = new_h if new_h % 2 == 0  else new_h + 1\n",
        "  img = np.concatenate([np.ones([new_h, img.shape[1], img.shape[2]]), img], 0)\n",
        "  img = cv2.putText(img, text, orgin, font, fontScale, color, thickness, cv2.LINE_AA)\n",
        "  return img"
      ]
    },
    {
      "cell_type": "code",
      "execution_count": 6,
      "metadata": {},
      "outputs": [
        {
          "name": "stderr",
          "output_type": "stream",
          "text": [
            "/opt/homebrew/Cellar/python@3.12/3.12.10_1/Frameworks/Python.framework/Versions/3.12/lib/python3.12/pty.py:95: RuntimeWarning: os.fork() was called. os.fork() is incompatible with multithreaded code, and JAX is multithreaded, so this will likely lead to a deadlock.\n",
            "  pid, fd = os.forkpty()\n"
          ]
        },
        {
          "name": "stdout",
          "output_type": "stream",
          "text": [
            "Requirement already satisfied: opencv-python in /Users/joannaj/self-organising-systems/.venv/lib/python3.12/site-packages (4.11.0.86)\n",
            "Requirement already satisfied: mediapy in /Users/joannaj/self-organising-systems/.venv/lib/python3.12/site-packages (1.2.4)\n",
            "Requirement already satisfied: tqdm in /Users/joannaj/self-organising-systems/.venv/lib/python3.12/site-packages (4.67.1)\n",
            "Requirement already satisfied: numpy in /Users/joannaj/self-organising-systems/.venv/lib/python3.12/site-packages (2.2.6)\n",
            "Collecting ipywidgets\n",
            "  Using cached ipywidgets-8.1.7-py3-none-any.whl.metadata (2.4 kB)\n",
            "Requirement already satisfied: jax[cpu] in /Users/joannaj/self-organising-systems/.venv/lib/python3.12/site-packages (0.6.1)\n",
            "Requirement already satisfied: ipython in /Users/joannaj/self-organising-systems/.venv/lib/python3.12/site-packages (from mediapy) (9.3.0)\n",
            "Requirement already satisfied: matplotlib in /Users/joannaj/self-organising-systems/.venv/lib/python3.12/site-packages (from mediapy) (3.10.3)\n",
            "Requirement already satisfied: Pillow in /Users/joannaj/self-organising-systems/.venv/lib/python3.12/site-packages (from mediapy) (11.2.1)\n",
            "Requirement already satisfied: jaxlib<=0.6.1,>=0.6.1 in /Users/joannaj/self-organising-systems/.venv/lib/python3.12/site-packages (from jax[cpu]) (0.6.1)\n",
            "Requirement already satisfied: ml_dtypes>=0.5.0 in /Users/joannaj/self-organising-systems/.venv/lib/python3.12/site-packages (from jax[cpu]) (0.5.1)\n",
            "Requirement already satisfied: opt_einsum in /Users/joannaj/self-organising-systems/.venv/lib/python3.12/site-packages (from jax[cpu]) (3.4.0)\n",
            "Requirement already satisfied: scipy>=1.11.1 in /Users/joannaj/self-organising-systems/.venv/lib/python3.12/site-packages (from jax[cpu]) (1.15.3)\n",
            "Requirement already satisfied: comm>=0.1.3 in /Users/joannaj/self-organising-systems/.venv/lib/python3.12/site-packages (from ipywidgets) (0.2.2)\n",
            "Requirement already satisfied: traitlets>=4.3.1 in /Users/joannaj/self-organising-systems/.venv/lib/python3.12/site-packages (from ipywidgets) (5.14.3)\n",
            "Collecting widgetsnbextension~=4.0.14 (from ipywidgets)\n",
            "  Using cached widgetsnbextension-4.0.14-py3-none-any.whl.metadata (1.6 kB)\n",
            "Collecting jupyterlab_widgets~=3.0.15 (from ipywidgets)\n",
            "  Using cached jupyterlab_widgets-3.0.15-py3-none-any.whl.metadata (20 kB)\n",
            "Requirement already satisfied: decorator in /Users/joannaj/self-organising-systems/.venv/lib/python3.12/site-packages (from ipython->mediapy) (5.2.1)\n",
            "Requirement already satisfied: ipython-pygments-lexers in /Users/joannaj/self-organising-systems/.venv/lib/python3.12/site-packages (from ipython->mediapy) (1.1.1)\n",
            "Requirement already satisfied: jedi>=0.16 in /Users/joannaj/self-organising-systems/.venv/lib/python3.12/site-packages (from ipython->mediapy) (0.19.2)\n",
            "Requirement already satisfied: matplotlib-inline in /Users/joannaj/self-organising-systems/.venv/lib/python3.12/site-packages (from ipython->mediapy) (0.1.7)\n",
            "Requirement already satisfied: pexpect>4.3 in /Users/joannaj/self-organising-systems/.venv/lib/python3.12/site-packages (from ipython->mediapy) (4.9.0)\n",
            "Requirement already satisfied: prompt_toolkit<3.1.0,>=3.0.41 in /Users/joannaj/self-organising-systems/.venv/lib/python3.12/site-packages (from ipython->mediapy) (3.0.51)\n",
            "Requirement already satisfied: pygments>=2.4.0 in /Users/joannaj/self-organising-systems/.venv/lib/python3.12/site-packages (from ipython->mediapy) (2.19.1)\n",
            "Requirement already satisfied: stack_data in /Users/joannaj/self-organising-systems/.venv/lib/python3.12/site-packages (from ipython->mediapy) (0.6.3)\n",
            "Requirement already satisfied: wcwidth in /Users/joannaj/self-organising-systems/.venv/lib/python3.12/site-packages (from prompt_toolkit<3.1.0,>=3.0.41->ipython->mediapy) (0.2.13)\n",
            "Requirement already satisfied: parso<0.9.0,>=0.8.4 in /Users/joannaj/self-organising-systems/.venv/lib/python3.12/site-packages (from jedi>=0.16->ipython->mediapy) (0.8.4)\n",
            "Requirement already satisfied: ptyprocess>=0.5 in /Users/joannaj/self-organising-systems/.venv/lib/python3.12/site-packages (from pexpect>4.3->ipython->mediapy) (0.7.0)\n",
            "Requirement already satisfied: contourpy>=1.0.1 in /Users/joannaj/self-organising-systems/.venv/lib/python3.12/site-packages (from matplotlib->mediapy) (1.3.2)\n",
            "Requirement already satisfied: cycler>=0.10 in /Users/joannaj/self-organising-systems/.venv/lib/python3.12/site-packages (from matplotlib->mediapy) (0.12.1)\n",
            "Requirement already satisfied: fonttools>=4.22.0 in /Users/joannaj/self-organising-systems/.venv/lib/python3.12/site-packages (from matplotlib->mediapy) (4.58.1)\n",
            "Requirement already satisfied: kiwisolver>=1.3.1 in /Users/joannaj/self-organising-systems/.venv/lib/python3.12/site-packages (from matplotlib->mediapy) (1.4.8)\n",
            "Requirement already satisfied: packaging>=20.0 in /Users/joannaj/self-organising-systems/.venv/lib/python3.12/site-packages (from matplotlib->mediapy) (25.0)\n",
            "Requirement already satisfied: pyparsing>=2.3.1 in /Users/joannaj/self-organising-systems/.venv/lib/python3.12/site-packages (from matplotlib->mediapy) (3.2.3)\n",
            "Requirement already satisfied: python-dateutil>=2.7 in /Users/joannaj/self-organising-systems/.venv/lib/python3.12/site-packages (from matplotlib->mediapy) (2.9.0.post0)\n",
            "Requirement already satisfied: six>=1.5 in /Users/joannaj/self-organising-systems/.venv/lib/python3.12/site-packages (from python-dateutil>=2.7->matplotlib->mediapy) (1.17.0)\n",
            "Requirement already satisfied: executing>=1.2.0 in /Users/joannaj/self-organising-systems/.venv/lib/python3.12/site-packages (from stack_data->ipython->mediapy) (2.2.0)\n",
            "Requirement already satisfied: asttokens>=2.1.0 in /Users/joannaj/self-organising-systems/.venv/lib/python3.12/site-packages (from stack_data->ipython->mediapy) (3.0.0)\n",
            "Requirement already satisfied: pure-eval in /Users/joannaj/self-organising-systems/.venv/lib/python3.12/site-packages (from stack_data->ipython->mediapy) (0.2.3)\n",
            "Using cached ipywidgets-8.1.7-py3-none-any.whl (139 kB)\n",
            "Using cached jupyterlab_widgets-3.0.15-py3-none-any.whl (216 kB)\n",
            "Using cached widgetsnbextension-4.0.14-py3-none-any.whl (2.2 MB)\n",
            "Installing collected packages: widgetsnbextension, jupyterlab_widgets, ipywidgets\n",
            "\u001b[2K   \u001b[90m━━━━━━━━━━━━━━━━━━━━━━━━━━━━━━━━━━━━━━━━\u001b[0m \u001b[32m3/3\u001b[0m [ipywidgets]\n",
            "\u001b[1A\u001b[2KSuccessfully installed ipywidgets-8.1.7 jupyterlab_widgets-3.0.15 widgetsnbextension-4.0.14\n"
          ]
        }
      ],
      "source": [
        "!pip install opencv-python mediapy \"jax[cpu]\" tqdm numpy ipywidgets\n",
        "\n"
      ]
    },
    {
      "cell_type": "markdown",
      "metadata": {
        "id": "aRRMQ1aNhqv6"
      },
      "source": [
        "## Select the configuration, the agent logic and the mutator\n",
        "\n",
        "Set soil_unbalance_limit to 0 to reproduce the original environment. Set it to 1/3 for having self-balancing environments (recommended)."
      ]
    },
    {
      "cell_type": "code",
      "execution_count": 8,
      "metadata": {
        "id": "dtc32MAfOBTK"
      },
      "outputs": [
        {
          "name": "stdout",
          "output_type": "stream",
          "text": [
            "BasicAgentLogic.dsm_num_params = 3210\n",
            "BasicAgentLogic.nsl_num_params = 4005\n",
            "BasicAgentLogic.denm_num_params = 3310\n",
            "BasicAgentLogic.excl_num_params = 6995\n",
            "BasicAgentLogic.repr_num_params = 5\n",
            "BasicAgentLogic.num_params = 17525\n"
          ]
        }
      ],
      "source": [
        "ec_id = \"pestilence\" #@param ['persistence', 'pestilence', 'collaboration', 'sideways']\n",
        "env_width_type = \"landscape\" #@param ['wide', 'landscape', 'square', 'petri']\n",
        "soil_unbalance_limit = 0 #@param [0, \"1/3\"] {type:\"raw\"}\n",
        "\n",
        "env_and_config = evm.get_env_and_config(ec_id, width_type=env_width_type)\n",
        "st_env, config = env_and_config\n",
        "config.soil_unbalance_limit = soil_unbalance_limit\n",
        "\n",
        "agent_model = \"extended\" #@param ['minimal', 'extended']\n",
        "agent_logic = BasicAgentLogic(config, minimal_net=agent_model==\"minimal\")\n",
        "\n",
        "mutator_type = \"basic\" #@param ['basic', 'randomly_adaptive']\n",
        "sd = 1e-2 if mutator_type == \"basic\" and agent_model == \"basic\" else 1e-3\n",
        "mutator = (BasicMutator(sd=sd, change_perc=0.2) if mutator_type == \"basic\"\n",
        "           else RandomlyAdaptiveMutator(init_sd=sd, change_perc=0.2))"
      ]
    },
    {
      "cell_type": "markdown",
      "metadata": {
        "id": "y3p9hXhKuSk2"
      },
      "source": [
        "## Optionally, modify the config for custom configurations"
      ]
    },
    {
      "cell_type": "code",
      "execution_count": 9,
      "metadata": {
        "id": "cKshhtYDvE81"
      },
      "outputs": [
        {
          "name": "stdout",
          "output_type": "stream",
          "text": [
            "Current config:\n",
            "agent_state_size: 2\n",
            "etd: DefaultTypeDef: {materials_list: ['VOID', 'AIR', 'EARTH', 'IMMOVABLE', 'SUN', 'OUT_OF_BOUNDS'], types: {'VOID': 0, 'AIR': 1, 'EARTH': 2, 'IMMOVABLE': 3, 'SUN': 4, 'OUT_OF_BOUNDS': 5, 'AGENT_UNSPECIALIZED': 6, 'AGENT_ROOT': 7, 'AGENT_LEAF': 8, 'AGENT_FLOWER': 9, 'AGENT_FLOWER_SEXUAL': 10}, specialization_idxs: {'AGENT_UNSPECIALIZED': 0, 'AGENT_ROOT': 1, 'AGENT_LEAF': 2, 'AGENT_FLOWER': 3, 'AGENT_FLOWER_SEXUAL': 4}, agent_types: [ 6  7  8  9 10], intangible_mats: [0 1], gravity_mats: [ 2  6  7  8  9 10], structural_mats: [ 6  7  8  9 10], propagate_structure_mats: [ 2  3  6  7  8  9 10], agent_spawnable_mats: [0 1 2], structure_decay_mats: [-1 -1  1  0 -1 -1  5  5  5  5  5], aging_mats: [ 6  7  8  9 10], propagate_air_nutrients_mats: [1], immutable_creates_nutrients: True, dissipation_rate_per_spec: [[0.5 0.5],  [1.  1. ],  [1.  1. ],  [1.2 1.2],  [1.2 1.2]]}\n",
            "env_state_size: 6\n",
            "struct_integrity_cap: 200\n",
            "absorbtion_amounts: [0.25 0.25]\n",
            "dissipation_per_step: [0.01 0.01]\n",
            "spawn_cost: [0.75 0.75]\n",
            "reproduce_cost: [1. 1.]\n",
            "specialize_cost: [0.05 0.05]\n",
            "reproduce_min_dist: 15\n",
            "reproduce_max_dist: 35\n",
            "n_reproduce_per_step: 2\n",
            "n_sexual_reproduce_per_step: 2\n",
            "nutrient_cap: [10. 10.]\n",
            "material_nutrient_cap: [10. 10.]\n",
            "max_lifetime: 300\n",
            "soil_unbalance_limit: 0\n"
          ]
        }
      ],
      "source": [
        "print(\"Current config:\")\n",
        "print('\\n'.join(\"%s: %s\" % item for item in vars(config).items()))"
      ]
    },
    {
      "cell_type": "code",
      "execution_count": null,
      "metadata": {
        "id": "H1wR-EQium-X"
      },
      "outputs": [],
      "source": [
        "## Examples for modifying the config\n",
        "## Uncomment relevant lines or do like them.\n",
        "\n",
        "## Regardless, to trigger the recomputation of step_env and similar,\n",
        "## config needs to be a new object! So, first, we create a new copy.\n",
        "import copy\n",
        "config = copy.copy(config)\n",
        "\n",
        "## Change simple isolated parameters (most of them)\n",
        "# config.struct_integrity_cap = 100\n",
        "# config.max_lifetime = 500\n",
        "## Vectors can be modified either by writing new vectors:\n",
        "# config.dissipation_per_step = jp.array([0.02, 0.02])\n",
        "## Or by multiplying previous values. Note that they are immutable!\n",
        "# config.dissipation_per_step = config.dissipation_per_step * 2\n",
        "\n",
        "## agent_state_size is trickier, because it influences env_state_size.\n",
        "## So you can either create a new config:\n",
        "## Note that you would have to insert all values that you don't want to take\n",
        "## default initializations.\n",
        "# config = evm.EnvConfig(agent_state_size=4)\n",
        "## Or you can just modify env_state_size as well.\n",
        "## (env_state_size = agent_state_size + 4) for now.\n",
        "# config.agent_state_size = 4\n",
        "# config.env_state_size = config.agent_state_size + 4\n"
      ]
    },
    {
      "cell_type": "markdown",
      "metadata": {
        "id": "Y-xLUg_Uh14k"
      },
      "source": [
        "## Perform a simulation\n",
        "\n",
        "Consider modifying the code to vary the extent of the simulation and video configs."
      ]
    },
    {
      "cell_type": "code",
      "execution_count": 10,
      "metadata": {
        "id": "65WC-fp1aI1Y"
      },
      "outputs": [
        {
          "name": "stderr",
          "output_type": "stream",
          "text": [
            "  0%|          | 0/500 [00:00<?, ?it/s]\n"
          ]
        },
        {
          "ename": "AttributeError",
          "evalue": "'NoneType' object has no attribute 'mutate'",
          "output_type": "error",
          "traceback": [
            "\u001b[31m---------------------------------------------------------------------------\u001b[39m",
            "\u001b[31mAttributeError\u001b[39m                            Traceback (most recent call last)",
            "\u001b[36mCell\u001b[39m\u001b[36m \u001b[39m\u001b[32mIn[10]\u001b[39m\u001b[32m, line 53\u001b[39m\n\u001b[32m     51\u001b[39m       step += \u001b[32m1\u001b[39m\n\u001b[32m     52\u001b[39m       key, ku = jr.split(key)\n\u001b[32m---> \u001b[39m\u001b[32m53\u001b[39m       env, programs = \u001b[43mstep_env\u001b[49m\u001b[43m(\u001b[49m\n\u001b[32m     54\u001b[39m \u001b[43m          \u001b[49m\u001b[43mku\u001b[49m\u001b[43m,\u001b[49m\u001b[43m \u001b[49m\u001b[43menv\u001b[49m\u001b[43m,\u001b[49m\u001b[43m \u001b[49m\u001b[43mconfig\u001b[49m\u001b[43m,\u001b[49m\u001b[43m \u001b[49m\u001b[43magent_logic\u001b[49m\u001b[43m,\u001b[49m\u001b[43m \u001b[49m\u001b[43mprograms\u001b[49m\u001b[43m,\u001b[49m\u001b[43m \u001b[49m\u001b[43mdo_reproduction\u001b[49m\u001b[43m=\u001b[49m\u001b[38;5;28;43;01mTrue\u001b[39;49;00m\u001b[43m,\u001b[49m\n\u001b[32m     55\u001b[39m \u001b[43m            \u001b[49m\u001b[43mmutate_programs\u001b[49m\u001b[43m=\u001b[49m\u001b[38;5;28;43;01mTrue\u001b[39;49;00m\u001b[43m,\u001b[49m\u001b[43m \u001b[49m\u001b[43mmutator\u001b[49m\u001b[43m=\u001b[49m\u001b[43mmutator\u001b[49m\u001b[43m)\u001b[49m\n\u001b[32m     57\u001b[39m     video.add_image(make_frame(env, step, steps_per_frame))\n\u001b[32m     59\u001b[39m media.show_video(media.read_video(out_file))\n",
            "    \u001b[31m[... skipping hidden 16 frame]\u001b[39m\n",
            "\u001b[36mFile \u001b[39m\u001b[32m~/self-organising-systems/self_organising_systems/biomakerca/step_maker.py:164\u001b[39m, in \u001b[36mstep_env\u001b[39m\u001b[34m(key, env, config, agent_logic, programs, excl_fs, do_reproduction, enable_asexual_reproduction, enable_sexual_reproduction, does_sex_matter, mutate_programs, mutator, sexual_mutator, intercept_reproduction, min_repr_energy_requirement, n_sparse_max, return_metrics)\u001b[39m\n\u001b[32m    158\u001b[39m ku, key = jr.split(key)\n\u001b[32m    159\u001b[39m \u001b[38;5;28;01mif\u001b[39;00m mutate_programs:\n\u001b[32m    160\u001b[39m   \u001b[38;5;66;03m# metrics are supported only here.\u001b[39;00m\n\u001b[32m    161\u001b[39m   repr_result = env_perform_reproduce_update(\n\u001b[32m    162\u001b[39m       ku, env, repr_programs, config, repr_f, mutate_programs, programs,\n\u001b[32m    163\u001b[39m       mutator.mutate, enable_asexual_reproduction,\n\u001b[32m--> \u001b[39m\u001b[32m164\u001b[39m       enable_sexual_reproduction, does_sex_matter, \u001b[43msexual_mutator\u001b[49m\u001b[43m.\u001b[49m\u001b[43mmutate\u001b[49m,\n\u001b[32m    165\u001b[39m       mutator.split_params, agent_logic.get_sex, n_sparse_max,\n\u001b[32m    166\u001b[39m       return_metrics)\n\u001b[32m    167\u001b[39m   \u001b[38;5;28;01mif\u001b[39;00m return_metrics:\n\u001b[32m    168\u001b[39m     (env, programs), metrics = repr_result\n",
            "\u001b[31mAttributeError\u001b[39m: 'NoneType' object has no attribute 'mutate'"
          ]
        }
      ],
      "source": [
        "\n",
        "key = jr.PRNGKey(43)\n",
        "\n",
        "# How many unique programs (organisms) are allowed in the simulation.\n",
        "N_MAX_PROGRAMS = 128\n",
        "\n",
        "# The number of frames of the video. This is NOT the number of steps.\n",
        "# The total number of steps depend on the number of steps per frame, which can\n",
        "# vary over time.\n",
        "# In the article, we generally use 500 or 750 frames.\n",
        "n_frames = 500\n",
        "\n",
        "# on what FRAME to double speed.\n",
        "when_to_double_speed = [100, 200, 300, 400, 500]\n",
        "# on what FRAME to reset speed.\n",
        "when_to_reset_speed = []\n",
        "fps = 20\n",
        "# this affects the size of the image. If this number is not even, the resulting\n",
        "# video *may* not be supported by all renderers.\n",
        "zoom_sz = 4\n",
        "\n",
        "ku, key = jr.split(key)\n",
        "programs = vmap(agent_logic.initialize)(jr.split(ku, N_MAX_PROGRAMS))\n",
        "ku, key = jr.split(key)\n",
        "programs = vmap(mutator.initialize)(jr.split(ku, programs.shape[0]), programs)\n",
        "\n",
        "env = st_env\n",
        "\n",
        "\n",
        "def make_frame(env, step, speed):\n",
        "  return pad_text(zoom(evm.grab_image_from_env(env, config),zoom_sz),\n",
        "                  \"Step {:<7} Speed: {}x\".format(step, speed))\n",
        "\n",
        "step = 0\n",
        "# how many steps per frame we start with. This gets usually doubled many times\n",
        "# during the simulation.\n",
        "# In the article, we usually use 2 or 4 as the starting value, sometimes 1.\n",
        "steps_per_frame = 2\n",
        "\n",
        "frame = make_frame(env, step, steps_per_frame)\n",
        "\n",
        "out_file = \"video.mp4\"\n",
        "with media.VideoWriter(\n",
        "    out_file, shape=frame.shape[:2], fps=fps, crf=18) as video:\n",
        "  video.add_image(frame)\n",
        "  for i in tqdm.trange(n_frames):\n",
        "    if i in when_to_double_speed:\n",
        "      steps_per_frame *= 2\n",
        "    if i in when_to_reset_speed:\n",
        "      steps_per_frame = 1\n",
        "    for j in range(steps_per_frame):\n",
        "      step += 1\n",
        "      key, ku = jr.split(key)\n",
        "      env, programs = step_env(\n",
        "          ku, env, config, agent_logic, programs, do_reproduction=True,\n",
        "            mutate_programs=True, mutator=mutator)\n",
        "\n",
        "    video.add_image(make_frame(env, step, steps_per_frame))\n",
        "\n",
        "media.show_video(media.read_video(out_file))"
      ]
    },
    {
      "cell_type": "markdown",
      "metadata": {
        "id": "Ug37d4bBuCe2"
      },
      "source": [
        "## Evaluate the configuration\n",
        "\n",
        "With this code, you can either evaluate a randomly initialized model, or models extracted from the previous run.\n",
        "\n",
        "In the latter case, make sure that there are agents alive at the end of the simulation."
      ]
    },
    {
      "cell_type": "code",
      "execution_count": null,
      "metadata": {
        "id": "ibvShWfEuEyn"
      },
      "outputs": [],
      "source": [
        "def count_agents_f(env, etd):\n",
        "  return etd.is_agent_fn(env.type_grid).sum()\n",
        "\n",
        "@partial(jit, static_argnames=[\"config\", \"agent_logic\", \"mutator\", \"n_steps\", \"n_max_programs\"])\n",
        "def evaluate_biome(key, st_env, config, agent_logic, mutator, n_steps,\n",
        "                   init_program=None, n_max_programs=128):\n",
        "  def body_f(i, carry):\n",
        "    key, env, programs, tot_agents_n = carry\n",
        "    ku, key = jr.split(key)\n",
        "\n",
        "    env, programs = step_env(\n",
        "        ku, env, config, agent_logic, programs, do_reproduction=True,\n",
        "          mutate_programs=True, mutator=mutator)\n",
        "\n",
        "    tot_agents_n += count_agents_f(env, config.etd)\n",
        "    return key, env, programs, tot_agents_n\n",
        "\n",
        "  if init_program is None:\n",
        "    ku, key = jr.split(key)\n",
        "    programs = vmap(agent_logic.initialize)(jr.split(ku, n_max_programs))\n",
        "    ku, key = jr.split(key)\n",
        "    programs = vmap(mutator.initialize)(jr.split(ku, programs.shape[0]), programs)\n",
        "  else:\n",
        "    programs = jp.repeat(init_program[None, :], n_max_programs, axis=0)\n",
        "\n",
        "  key, env, programs, tot_agents_n = jax.lax.fori_loop(\n",
        "      0, n_steps, body_f, (key, st_env, programs, 0))\n",
        "\n",
        "  # check whether they got extinct:\n",
        "  is_extinct = (count_agents_f(env, config.etd) == 0).astype(jp.int32)\n",
        "  return tot_agents_n, is_extinct"
      ]
    },
    {
      "cell_type": "code",
      "execution_count": null,
      "metadata": {
        "id": "GeVX1e6Dcl2U"
      },
      "outputs": [],
      "source": [
        "what_to_evaluate = \"initialization\" # @param [\"initialization\", \"extracted\"]\n",
        "\n",
        "key = jr.PRNGKey(123)\n",
        "\n",
        "n_steps = 1000\n",
        "n_reps = 16\n",
        "\n",
        "if what_to_evaluate == \"initialization\":\n",
        "  init_programs = None\n",
        "else:\n",
        "  # Extract a living program from the final environment.\n",
        "  aid_flat = env.agent_id_grid.flatten()\n",
        "  is_agent_flat = config.etd.is_agent_fn(env.type_grid).flatten().astype(jp.float32)\n",
        "  n_alive_per_id = jax.ops.segment_sum(is_agent_flat, aid_flat, num_segments=N_MAX_PROGRAMS)\n",
        "  alive_programs = programs[n_alive_per_id>0]\n",
        "  print(\"Extracted {} programs.\".format(alive_programs.shape[0]))\n",
        "  assert alive_programs.shape[0] >= n_reps, \"Not enough alive programs found.\"\n",
        "\n",
        "  init_programs = alive_programs[:n_reps]\n",
        "\n",
        "\n",
        "t_st = time.time()\n",
        "key, ku = jr.split(key)\n",
        "b_tot_agents_n, b_is_extinct = jit(vmap(partial(\n",
        "    evaluate_biome, st_env=st_env, config=config, agent_logic=agent_logic,\n",
        "    mutator=mutator, n_steps=n_steps)))(jr.split(ku, n_reps), init_program=init_programs)\n",
        "print(\"Took\", time.time()-t_st, \"seconds\")\n",
        "print(\"Total number of agents\", b_tot_agents_n, b_tot_agents_n.mean(), b_tot_agents_n.std())\n",
        "print(\"Extinction events\", b_is_extinct, b_is_extinct.mean(), b_is_extinct.std())"
      ]
    }
  ],
  "metadata": {
    "accelerator": "GPU",
    "colab": {
      "gpuType": "V100",
      "last_runtime": {
        "build_target": "//learning/grp/tools/ml_python:ml_notebook",
        "kind": "private"
      },
      "machine_shape": "hm",
      "private_outputs": true,
      "provenance": [
        {
          "file_id": "1ADfcMRj-JmfN6VUIcuqU-3bTMGrWSkj_",
          "timestamp": 1688723295778
        },
        {
          "file_id": "1XY102qIEc9MY9hd-Jb6Oirmyw7ga2LZL",
          "timestamp": 1688637712371
        }
      ],
      "toc_visible": true
    },
    "kernelspec": {
      "display_name": ".venv",
      "language": "python",
      "name": "python3"
    },
    "language_info": {
      "codemirror_mode": {
        "name": "ipython",
        "version": 3
      },
      "file_extension": ".py",
      "mimetype": "text/x-python",
      "name": "python",
      "nbconvert_exporter": "python",
      "pygments_lexer": "ipython3",
      "version": "3.12.10"
    }
  },
  "nbformat": 4,
  "nbformat_minor": 0
}
