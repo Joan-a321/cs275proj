{
  "cells": [
    {
      "cell_type": "markdown",
      "metadata": {
        "id": "LpQvs2DVfkVy"
      },
      "source": [
        "# Biomaker CA: Evolving in small worlds\n",
        "\n",
        "This colab shows the experiments performed in small worlds. See the [related YouTube video here](https://youtu.be/QaCH4ATmt_s?si=3osYC9WuAL6J89qP).\n",
        "\n",
        "I used the 'persistence' configuration, but feel free to experiment with different environments.\n",
        "\n",
        "I haven't performed a serious ablation study, but I nevertheless managed to evolve a biome that seems to be stable in such small worlds (h=16).\n",
        "\n",
        "Copyright 2023 Google LLC\n",
        "\n",
        "Licensed under the Apache License, Version 2.0 (the \"License\");\n",
        "you may not use this file except in compliance with the License.\n",
        "You may obtain a copy of the License at\n",
        "\n",
        "    https://www.apache.org/licenses/LICENSE-2.0\n",
        "\n",
        "Unless required by applicable law or agreed to in writing, software\n",
        "distributed under the License is distributed on an \"AS IS\" BASIS,\n",
        "WITHOUT WARRANTIES OR CONDITIONS OF ANY KIND, either express or implied.\n",
        "See the License for the specific language governing permissions and\n",
        "limitations under the License."
      ]
    },
    {
      "cell_type": "markdown",
      "metadata": {
        "id": "iuhJcrwNgIEF"
      },
      "source": [
        "## Imports"
      ]
    },
    {
      "cell_type": "code",
      "execution_count": null,
      "metadata": {
        "id": "287RU0sup5J2"
      },
      "outputs": [],
      "source": [
        "#@title install selforg package\n",
        "# install the package locally\n",
        "!pip install --upgrade -e git+https://github.com/google-research/self-organising-systems.git#egg=self_organising_systems\u0026subdirectory=biomakerca\n",
        "# activate the locally installed package (otherwise a runtime restart is required)\n",
        "import pkg_resources\n",
        "import importlib\n",
        "# Reload the resources because we uninstalled and reinstalled some packages.\n",
        "importlib.reload(pkg_resources)\n",
        "pkg_resources.get_distribution(\"self_organising_systems\").activate()"
      ]
    },
    {
      "cell_type": "code",
      "execution_count": null,
      "metadata": {
        "id": "DY7J0cz7NUCV"
      },
      "outputs": [],
      "source": [
        "#@title imports \u0026 notebook utilities\n",
        "from self_organising_systems.biomakerca import environments as evm\n",
        "from self_organising_systems.biomakerca.agent_logic import BasicAgentLogic\n",
        "from self_organising_systems.biomakerca.mutators import BasicMutator\n",
        "from self_organising_systems.biomakerca.mutators import RandomlyAdaptiveMutator\n",
        "from self_organising_systems.biomakerca.step_maker import step_env\n",
        "from self_organising_systems.biomakerca.display_utils import zoom, tile2d\n",
        "from self_organising_systems.biomakerca.custom_ipython_display import display\n",
        "from self_organising_systems.biomakerca.env_logic import process_structural_integrity_n_times\n",
        "from self_organising_systems.biomakerca.utils import save_dna, load_dna\n",
        "\n",
        "import cv2\n",
        "import numpy as np\n",
        "import jax.random as jr\n",
        "import jax.numpy as jp\n",
        "from jax import vmap\n",
        "from jax import jit\n",
        "import jax\n",
        "import time\n",
        "\n",
        "import tqdm\n",
        "import mediapy as media\n",
        "from functools import partial\n",
        "from IPython.display import clear_output\n",
        "import matplotlib.pyplot as plt\n",
        "\n",
        "\n",
        "def pad_text(img, text):\n",
        "  font = cv2.FONT_HERSHEY_SIMPLEX\n",
        "  orgin = (5, 15)\n",
        "  fontScale = 0.5\n",
        "  color = (0, 0, 0)\n",
        "  thickness = 1\n",
        "\n",
        "  # ensure to preserve even size (assumes the input size was even.\n",
        "  new_h = img.shape[0]//15\n",
        "  new_h = new_h if new_h % 2 == 0  else new_h + 1\n",
        "  img = np.concatenate([np.ones([new_h, img.shape[1], img.shape[2]]), img], 0)\n",
        "  img = cv2.putText(img, text, orgin, font, fontScale, color, thickness, cv2.LINE_AA)\n",
        "  return img\n",
        "\n",
        "\n",
        "def visualize_run(key, programs, agent_logic, mutator, st_env, config, n_steps,\n",
        "                  init_steps_per_frame=2,\n",
        "                  when_to_double_speed=[100, 500, 1000, 2000, 5000],\n",
        "                  fps=20,\n",
        "                  zoom_sz=40):\n",
        "  env = st_env\n",
        "  steps_per_frame = init_steps_per_frame\n",
        "\n",
        "  def make_frame(env):\n",
        "    return zoom(evm.grab_image_from_env(env, config), zoom_sz)\n",
        "\n",
        "  frame = make_frame(env)\n",
        "\n",
        "  out_file = \"video.mp4\"\n",
        "  with media.VideoWriter(out_file, shape=frame.shape[:2], fps=fps,\n",
        "                         crf=18) as video:\n",
        "    for i in tqdm.trange(n_steps):\n",
        "      if i in when_to_double_speed:\n",
        "        steps_per_frame *= 2\n",
        "\n",
        "      key, ku = jr.split(key)\n",
        "      env, programs = step_env(\n",
        "          ku, env, config, agent_logic, programs, do_reproduction=True,\n",
        "            mutate_programs=True, mutator=mutator)\n",
        "\n",
        "      if i % steps_per_frame == 0:\n",
        "        video.add_image(make_frame(env))\n",
        "\n",
        "  media.show_video(media.read_video(out_file))\n"
      ]
    },
    {
      "cell_type": "markdown",
      "metadata": {
        "id": "aRRMQ1aNhqv6"
      },
      "source": [
        "## Select the configuration, the agent logic and the mutator"
      ]
    },
    {
      "cell_type": "code",
      "execution_count": null,
      "metadata": {
        "id": "dtc32MAfOBTK"
      },
      "outputs": [],
      "source": [
        "ec_id = \"persistence\" #@param ['persistence', 'pestilence', 'collaboration', 'sideways']\n",
        "env_width_type = \"landscape\" #@param ['wide', 'landscape', 'square', 'petri']\n",
        "# original h is 72\n",
        "h = 16 #@param {type: \"integer\"}\n",
        "\n",
        "env_and_config = evm.get_env_and_config(ec_id, width_type=env_width_type, h=h)\n",
        "st_env, config = env_and_config\n",
        "w = st_env.type_grid.shape[1]\n",
        "\n",
        "agent_model = \"extended\" #@param ['minimal', 'extended']\n",
        "agent_logic = BasicAgentLogic(config, minimal_net=agent_model==\"minimal\")\n",
        "\n",
        "mutator_type = \"randomly_adaptive\" #@param ['basic', 'randomly_adaptive']\n",
        "sd = 1e-2 if mutator_type == \"basic\" and agent_model == \"basic\" else 1e-3\n",
        "mutator = (BasicMutator(sd=sd, change_perc=0.2) if mutator_type == \"basic\"\n",
        "           else RandomlyAdaptiveMutator(init_sd=sd, change_perc=0.2))"
      ]
    },
    {
      "cell_type": "markdown",
      "metadata": {
        "id": "2ssGm2Zuko_N"
      },
      "source": [
        "## Example initial run\n",
        "This is expected to fail."
      ]
    },
    {
      "cell_type": "code",
      "execution_count": null,
      "metadata": {
        "id": "1k-ecVZQlBpR"
      },
      "outputs": [],
      "source": [
        "key = jr.PRNGKey(43)\n",
        "\n",
        "\n",
        "# How many unique programs (organisms) are allowed in the simulation.\n",
        "N_MAX_PROGRAMS = 128\n",
        "\n",
        "n_steps = 5000\n",
        "\n",
        "ku, key = jr.split(key)\n",
        "programs = vmap(agent_logic.initialize)(jr.split(ku, N_MAX_PROGRAMS))\n",
        "ku, key = jr.split(key)\n",
        "programs = vmap(mutator.initialize)(jr.split(ku, programs.shape[0]), programs)\n",
        "\n",
        "ku, key = jr.split(key)\n",
        "visualize_run(ku, programs, agent_logic, mutator, st_env, config, n_steps)\n",
        "\n"
      ]
    },
    {
      "cell_type": "markdown",
      "metadata": {
        "id": "hVTgo0r9Mse7"
      },
      "source": [
        "## Try all possible logics/mutators\n",
        "This is also expected to fail."
      ]
    },
    {
      "cell_type": "code",
      "execution_count": null,
      "metadata": {
        "id": "W5symeNmM4hS"
      },
      "outputs": [],
      "source": [
        "\n",
        "agent_logics = [\n",
        "    BasicAgentLogic(config, minimal_net=True),\n",
        "    BasicAgentLogic(config, minimal_net=False),\n",
        "    BasicAgentLogic(config, minimal_net=True),\n",
        "    BasicAgentLogic(config, minimal_net=False)\n",
        "]\n",
        "\n",
        "mutators = [\n",
        "    BasicMutator(sd=1e-2, change_perc=0.2),\n",
        "    BasicMutator(sd=1e-3, change_perc=0.2),\n",
        "    RandomlyAdaptiveMutator(init_sd=1e-3, change_perc=0.2),\n",
        "    RandomlyAdaptiveMutator(init_sd=1e-3, change_perc=0.2),\n",
        "]\n",
        "\n",
        "\n",
        "n_steps = 5000\n",
        "N_MAX_PROGRAMS = 128\n",
        "\n",
        "steps_per_frame = 2\n",
        "# on what STEP to double speed.\n",
        "# NOTE that it is different from previous colabs, where we were talking about\n",
        "# frames.\n",
        "when_to_double_speed = [100, 500, 1000, 2000, 5000]\n",
        "fps = 20\n",
        "# this affects the size of the image. If this number is not even, the resulting\n",
        "# video *may* not be supported by all renderers.\n",
        "zoom_sz = 20\n",
        "\n",
        "b_programs = []\n",
        "for i in range(len(agent_logics)):\n",
        "  ku, key = jr.split(key)\n",
        "  programs = vmap(agent_logics[i].initialize)(jr.split(ku, N_MAX_PROGRAMS))\n",
        "  ku, key = jr.split(key)\n",
        "  programs = vmap(mutators[i].initialize)(jr.split(ku, programs.shape[0]), programs)\n",
        "  b_programs.append(programs)\n",
        "\n",
        "envs = [st_env] * len(agent_logics)\n",
        "\n",
        "\n",
        "def make_frame(envs):\n",
        "  return zoom(\n",
        "      tile2d([\n",
        "          np.pad(evm.grab_image_from_env(env, config), ((1,0), (1,0), (0,0)), constant_values=1.)\n",
        "          for env in envs], w=2)[1:,1:],\n",
        "      zoom_sz)\n",
        "\n",
        "step = 0\n",
        "\n",
        "frame = make_frame(envs)\n",
        "out_file = \"video.mp4\"\n",
        "\n",
        "\n",
        "with media.VideoWriter(out_file, shape=frame.shape[:2], fps=fps, crf=18) as video:\n",
        "  video.add_image(frame)\n",
        "  for i in tqdm.trange(n_steps):\n",
        "    if i in when_to_double_speed:\n",
        "      steps_per_frame *= 2\n",
        "    new_envs, new_b_programs = [] , []\n",
        "    for k in range(len(agent_logics)):\n",
        "\n",
        "      key, ku = jr.split(key)\n",
        "      env, programs = step_env(\n",
        "          ku, envs[k], config, agent_logics[k], b_programs[k], do_reproduction=True,\n",
        "            mutate_programs=True, mutator=mutators[k])\n",
        "      new_envs.append(env)\n",
        "      new_b_programs.append(programs)\n",
        "    envs = new_envs\n",
        "    b_programs = new_b_programs\n",
        "\n",
        "    if i % steps_per_frame == 0:\n",
        "      video.add_image(make_frame(envs))\n",
        "\n",
        "media.show_video(media.read_video(out_file))"
      ]
    },
    {
      "cell_type": "markdown",
      "metadata": {
        "id": "kIjk_f23PQll"
      },
      "source": [
        "## Repeat one model several times\n",
        "\n",
        "Note: we could parallelize the computation here with vmaps. I don't to make sure that we won't run out of memory, in general. But in this specific case, we probably would be fine."
      ]
    },
    {
      "cell_type": "code",
      "execution_count": null,
      "metadata": {
        "id": "rzWkmUZPPxZo"
      },
      "outputs": [],
      "source": [
        "agent_model = \"extended\" #@param ['minimal', 'extended']\n",
        "agent_logic = BasicAgentLogic(config, minimal_net=agent_model==\"minimal\")\n",
        "\n",
        "mutator_type = \"randomly_adaptive\" #@param ['basic', 'randomly_adaptive']\n",
        "sd = 1e-2 if mutator_type == \"basic\" and agent_model == \"basic\" else 1e-3\n",
        "mutator = (BasicMutator(sd=sd, change_perc=0.2) if mutator_type == \"basic\"\n",
        "           else RandomlyAdaptiveMutator(init_sd=sd, change_perc=0.2))"
      ]
    },
    {
      "cell_type": "code",
      "execution_count": null,
      "metadata": {
        "id": "79KfyLgAPbHI"
      },
      "outputs": [],
      "source": [
        "\n",
        "\n",
        "n_steps = 10000\n",
        "N_MAX_PROGRAMS = 128\n",
        "N_REPS = 9\n",
        "\n",
        "steps_per_frame = 2\n",
        "# on what STEP to double speed.\n",
        "# NOTE that it is different from previous colabs, where we were talking about\n",
        "# frames.\n",
        "when_to_double_speed = [100, 500, 1000, 2000, 5000]\n",
        "fps = 20\n",
        "# this affects the size of the image. If this number is not even, the resulting\n",
        "# video *may* not be supported by all renderers.\n",
        "zoom_sz = 20\n",
        "\n",
        "b_programs = []\n",
        "for i in range(N_REPS):\n",
        "  ku, key = jr.split(key)\n",
        "  programs = vmap(agent_logic.initialize)(jr.split(ku, N_MAX_PROGRAMS))\n",
        "  ku, key = jr.split(key)\n",
        "  programs = vmap(mutator.initialize)(jr.split(ku, programs.shape[0]), programs)\n",
        "  b_programs.append(programs)\n",
        "\n",
        "envs = [st_env] * N_REPS\n",
        "\n",
        "def make_frame(envs):\n",
        "  return zoom(\n",
        "      tile2d([\n",
        "          np.pad(evm.grab_image_from_env(env, config), ((1,0), (1,0), (0,0)), constant_values=1.)\n",
        "          for env in envs])[1:,1:],\n",
        "      zoom_sz)\n",
        "\n",
        "step = 0\n",
        "\n",
        "frame = make_frame(envs)\n",
        "out_file = \"video.mp4\"\n",
        "\n",
        "\n",
        "with media.VideoWriter(out_file, shape=frame.shape[:2], fps=fps, crf=18) as video:\n",
        "  video.add_image(frame)\n",
        "  for i in tqdm.trange(n_steps):\n",
        "    if i in when_to_double_speed:\n",
        "      steps_per_frame *= 2\n",
        "    new_envs, new_b_programs = [] , []\n",
        "    for k in range(N_REPS):\n",
        "\n",
        "      key, ku = jr.split(key)\n",
        "      env, programs = step_env(\n",
        "          ku, envs[k], config, agent_logic, b_programs[k], do_reproduction=True,\n",
        "            mutate_programs=True, mutator=mutator)\n",
        "      new_envs.append(env)\n",
        "      new_b_programs.append(programs)\n",
        "    envs = new_envs\n",
        "    b_programs = new_b_programs\n",
        "\n",
        "    if i % steps_per_frame == 0:\n",
        "      video.add_image(make_frame(envs))\n",
        "\n",
        "media.show_video(media.read_video(out_file))"
      ]
    },
    {
      "cell_type": "markdown",
      "metadata": {
        "id": "VXIj0QpemE0V"
      },
      "source": [
        "## End-to-end meta-evolution: 5000 steps"
      ]
    },
    {
      "cell_type": "code",
      "execution_count": null,
      "metadata": {
        "id": "juks1xbVmE0W"
      },
      "outputs": [],
      "source": [
        "agent_model = \"extended\" #@param ['minimal', 'extended']\n",
        "agent_logic = BasicAgentLogic(config, minimal_net=agent_model==\"minimal\")\n",
        "\n",
        "mutator_type = \"randomly_adaptive\" #@param ['basic', 'randomly_adaptive']\n",
        "sd = 1e-2 if mutator_type == \"basic\" and agent_model == \"basic\" else 1e-3\n",
        "mutator = (BasicMutator(sd=sd, change_perc=0.2) if mutator_type == \"basic\"\n",
        "           else RandomlyAdaptiveMutator(init_sd=sd, change_perc=0.2))"
      ]
    },
    {
      "cell_type": "code",
      "execution_count": null,
      "metadata": {
        "id": "rRvQm3UZpLpy"
      },
      "outputs": [],
      "source": [
        "def count_agents_f(env, etd):\n",
        "  return etd.is_agent_fn(env.type_grid).sum()\n",
        "\n",
        "@partial(jit, static_argnames=[\"config\", \"agent_logic\", \"mutator\", \"n_steps\", \"n_max_programs\"])\n",
        "def evaluate_biome(key, st_env, config, agent_logic, mutator, n_steps,\n",
        "                   init_program=None, n_max_programs=128):\n",
        "  def body_f(i, carry):\n",
        "    key, env, programs, tot_agents_n = carry\n",
        "    ku, key = jr.split(key)\n",
        "\n",
        "    env, programs = step_env(\n",
        "        ku, env, config, agent_logic, programs, do_reproduction=True,\n",
        "          mutate_programs=True, mutator=mutator)\n",
        "\n",
        "    tot_agents_n += count_agents_f(env, config.etd)\n",
        "    return key, env, programs, tot_agents_n\n",
        "\n",
        "  if init_program is None:\n",
        "    ku, key = jr.split(key)\n",
        "    programs = vmap(agent_logic.initialize)(jr.split(ku, n_max_programs))\n",
        "    ku, key = jr.split(key)\n",
        "    programs = vmap(mutator.initialize)(jr.split(ku, programs.shape[0]), programs)\n",
        "  else:\n",
        "    programs = jp.repeat(init_program[None, :], n_max_programs, axis=0)\n",
        "\n",
        "  key, env, programs, tot_agents_n = jax.lax.fori_loop(\n",
        "      0, n_steps, body_f, (key, st_env, programs, 0))\n",
        "\n",
        "  # check whether they got extinct:\n",
        "  is_extinct = (count_agents_f(env, config.etd) == 0).astype(jp.int32)\n",
        "  return tot_agents_n, is_extinct"
      ]
    },
    {
      "cell_type": "code",
      "execution_count": null,
      "metadata": {
        "id": "DcfR_r_EmE0X"
      },
      "outputs": [],
      "source": [
        "from evojax.algo import PGPE\n",
        "\n",
        "key = jr.PRNGKey(137)\n",
        "\n",
        "N_MAX_PROGRAMS = 128\n",
        "\n",
        "n_steps = 5000\n",
        "\n",
        "# initialize params\n",
        "ku, key = jr.split(key)\n",
        "init_program = agent_logic.initialize(ku)\n",
        "ku, key = jr.split(key)\n",
        "init_program = mutator.initialize(ku, init_program)\n",
        "\n",
        "\n",
        "pop_size = 32\n",
        "ku, key = jr.split(key)\n",
        "solver = PGPE(\n",
        "    pop_size=pop_size,\n",
        "    param_size=init_program.shape[0],\n",
        "    optimizer='adam',\n",
        "    center_learning_rate=0.001,\n",
        "    stdev_learning_rate=0.001,\n",
        "    stdev_max_change=0.002,\n",
        "    seed=ku[0],\n",
        "    init_params=init_program,\n",
        "    init_stdev=0.001,\n",
        ")\n",
        "\n",
        "n_max_programs = 64 # less than usual, but it doesn't really matter.\n",
        "death_penalty = 1e6 * n_steps // 1000\n",
        "\n",
        "@jit\n",
        "def v_fitness_f(key, v_params):\n",
        "  ku, key = jr.split(key)\n",
        "  tot_agents_n, num_deaths = vmap(partial(\n",
        "      evaluate_biome, st_env=st_env, config=config, agent_logic=agent_logic,\n",
        "      mutator=mutator, n_steps=n_steps, n_max_programs=n_max_programs))(\n",
        "          jr.split(key, pop_size), init_program=v_params)\n",
        "  fitness = tot_agents_n - num_deaths * death_penalty\n",
        "  return fitness\n",
        "\n",
        "mean_fit_log = []\n",
        "max_fit_log = []"
      ]
    },
    {
      "cell_type": "code",
      "execution_count": null,
      "metadata": {
        "id": "KnZuaxDQmE0X"
      },
      "outputs": [],
      "source": [
        "\n",
        "for _ in range(30):\n",
        "  # sample\n",
        "  programs = solver.ask()\n",
        "  # eval\n",
        "  key, k1 = jr.split(key)\n",
        "  fitness = v_fitness_f(k1, programs)\n",
        "  # update\n",
        "  solver.tell(fitness)\n",
        "\n",
        "  mean_fitness = fitness.mean()\n",
        "  max_fitness = fitness.max()\n",
        "  mean_fit_log.append(mean_fitness)\n",
        "  max_fit_log.append(max_fitness)\n",
        "  print(mean_fitness, max_fitness)\n",
        "  if len(mean_fit_log) % 10 == 0:\n",
        "    clear_output()\n",
        "    plt.plot(mean_fit_log, label=\"mean_fitness\")\n",
        "    plt.plot(max_fit_log, label=\"max_fitness\")\n",
        "    plt.legend()\n",
        "    plt.show()"
      ]
    },
    {
      "cell_type": "markdown",
      "metadata": {
        "id": "yop6sWgTmE0X"
      },
      "source": [
        "### Show an example run of the result\n",
        "\n",
        "Consider modifying the code to vary the extent of the simulation and video configs."
      ]
    },
    {
      "cell_type": "code",
      "execution_count": null,
      "metadata": {
        "id": "rVgQVzt5mE0X"
      },
      "outputs": [],
      "source": [
        "\n",
        "key = jr.PRNGKey(43)\n",
        "\n",
        "# How many unique programs (organisms) are allowed in the simulation.\n",
        "N_MAX_PROGRAMS = 128\n",
        "\n",
        "n_steps = 20000\n",
        "\n",
        "programs = jp.repeat(solver.best_params[None,:], N_MAX_PROGRAMS, axis=0)\n",
        "\n",
        "\n",
        "env = st_env\n",
        "\n",
        "steps_per_frame = 2\n",
        "# on what STEP to double speed.\n",
        "# NOTE that it is different from previous colabs, where we were talking about\n",
        "# frames.\n",
        "when_to_double_speed = [100, 500, 1000, 2000, 5000]\n",
        "\n",
        "stop_at = [5000]\n",
        "\n",
        "fps = 20\n",
        "# this affects the size of the image. If this number is not even, the resulting\n",
        "# video *may* not be supported by all renderers.\n",
        "zoom_sz = 40\n",
        "\n",
        "def make_frame(env):\n",
        "  return zoom(evm.grab_image_from_env(env, config), zoom_sz)\n",
        "\n",
        "frame = make_frame(env)\n",
        "\n",
        "out_file = \"video.mp4\"\n",
        "with media.VideoWriter(out_file, shape=frame.shape[:2], fps=fps,\n",
        "                       crf=18,\n",
        "                       ) as video:\n",
        "  for i in tqdm.trange(n_steps):\n",
        "    if i in when_to_double_speed:\n",
        "      steps_per_frame *= 2\n",
        "\n",
        "    key, ku = jr.split(key)\n",
        "    env, programs = step_env(\n",
        "        ku, env, config, agent_logic, programs, do_reproduction=True,\n",
        "          mutate_programs=True, mutator=mutator)\n",
        "\n",
        "    if i % steps_per_frame == 0:\n",
        "      video.add_image(make_frame(env))\n",
        "    if i in stop_at:\n",
        "      # add some extra frames.\n",
        "      frame = make_frame(env)\n",
        "      for _ in range(20):\n",
        "        video.add_image(frame)\n",
        "\n",
        "media.show_video(media.read_video(out_file))\n"
      ]
    },
    {
      "cell_type": "markdown",
      "metadata": {
        "id": "gj2YuWJTu4jq"
      },
      "source": [
        "## End-to-end meta-evolution: 10000 steps"
      ]
    },
    {
      "cell_type": "code",
      "execution_count": null,
      "metadata": {
        "id": "K8RCrWZdY-Bf"
      },
      "outputs": [],
      "source": [
        "agent_model = \"extended\" #@param ['minimal', 'extended']\n",
        "agent_logic = BasicAgentLogic(config, minimal_net=agent_model==\"minimal\")\n",
        "\n",
        "mutator_type = \"randomly_adaptive\" #@param ['basic', 'randomly_adaptive']\n",
        "sd = 1e-2 if mutator_type == \"basic\" and agent_model == \"basic\" else 1e-3\n",
        "mutator = (BasicMutator(sd=sd, change_perc=0.2) if mutator_type == \"basic\"\n",
        "           else RandomlyAdaptiveMutator(init_sd=sd, change_perc=0.2))"
      ]
    },
    {
      "cell_type": "code",
      "execution_count": null,
      "metadata": {
        "id": "ibvShWfEuEyn"
      },
      "outputs": [],
      "source": [
        "def count_agents_f(env, etd):\n",
        "  return etd.is_agent_fn(env.type_grid).sum()\n",
        "\n",
        "@partial(jit, static_argnames=[\"config\", \"agent_logic\", \"mutator\", \"n_steps\", \"n_max_programs\"])\n",
        "def evaluate_biome(key, st_env, config, agent_logic, mutator, n_steps,\n",
        "                   init_program=None, n_max_programs=128):\n",
        "  def body_f(i, carry):\n",
        "    key, env, programs, tot_agents_n = carry\n",
        "    ku, key = jr.split(key)\n",
        "\n",
        "    env, programs = step_env(\n",
        "        ku, env, config, agent_logic, programs, do_reproduction=True,\n",
        "          mutate_programs=True, mutator=mutator)\n",
        "\n",
        "    tot_agents_n += count_agents_f(env, config.etd)\n",
        "    return key, env, programs, tot_agents_n\n",
        "\n",
        "  if init_program is None:\n",
        "    ku, key = jr.split(key)\n",
        "    programs = vmap(agent_logic.initialize)(jr.split(ku, n_max_programs))\n",
        "    ku, key = jr.split(key)\n",
        "    programs = vmap(mutator.initialize)(jr.split(ku, programs.shape[0]), programs)\n",
        "  else:\n",
        "    programs = jp.repeat(init_program[None, :], n_max_programs, axis=0)\n",
        "\n",
        "  key, env, programs, tot_agents_n = jax.lax.fori_loop(\n",
        "      0, n_steps, body_f, (key, st_env, programs, 0))\n",
        "\n",
        "  # check whether they got extinct:\n",
        "  is_extinct = (count_agents_f(env, config.etd) == 0).astype(jp.int32)\n",
        "  return tot_agents_n, is_extinct"
      ]
    },
    {
      "cell_type": "code",
      "execution_count": null,
      "metadata": {
        "id": "48A6Wst_u7cj"
      },
      "outputs": [],
      "source": [
        "from evojax.algo import PGPE\n",
        "\n",
        "key = jr.PRNGKey(137)\n",
        "\n",
        "N_MAX_PROGRAMS = 128\n",
        "\n",
        "n_steps = 10000 # 2000\n",
        "\n",
        "# initialize params\n",
        "ku, key = jr.split(key)\n",
        "init_program = agent_logic.initialize(ku)\n",
        "ku, key = jr.split(key)\n",
        "init_program = mutator.initialize(ku, init_program)\n",
        "\n",
        "\n",
        "pop_size = 32\n",
        "ku, key = jr.split(key)\n",
        "solver = PGPE(\n",
        "    pop_size=pop_size,\n",
        "    param_size=init_program.shape[0],\n",
        "    optimizer='adam',\n",
        "    center_learning_rate=0.001,\n",
        "    stdev_learning_rate=0.001,\n",
        "    stdev_max_change=0.002,\n",
        "    seed=ku[0],\n",
        "    init_params=init_program,\n",
        "    init_stdev=0.001,\n",
        ")\n",
        "\n",
        "n_max_programs = 64 # less than usual, but it doesn't really matter.\n",
        "death_penalty = 1e6 * n_steps // 1000\n",
        "\n",
        "@jit\n",
        "def v_fitness_f(key, v_params):\n",
        "  ku, key = jr.split(key)\n",
        "  tot_agents_n, num_deaths = vmap(partial(\n",
        "      evaluate_biome, st_env=st_env, config=config, agent_logic=agent_logic,\n",
        "      mutator=mutator, n_steps=n_steps, n_max_programs=n_max_programs))(\n",
        "          jr.split(key, pop_size), init_program=v_params)\n",
        "  fitness = tot_agents_n - num_deaths * death_penalty\n",
        "  return fitness\n",
        "\n",
        "mean_fit_log = []\n",
        "max_fit_log = []"
      ]
    },
    {
      "cell_type": "code",
      "execution_count": null,
      "metadata": {
        "id": "TQwUZuEHvWzg"
      },
      "outputs": [],
      "source": [
        "\n",
        "for _ in range(30):\n",
        "  # sample\n",
        "  programs = solver.ask()\n",
        "  # eval\n",
        "  key, k1 = jr.split(key)\n",
        "  fitness = v_fitness_f(k1, programs)\n",
        "  # update\n",
        "  solver.tell(fitness)\n",
        "\n",
        "  mean_fitness = fitness.mean()\n",
        "  max_fitness = fitness.max()\n",
        "  mean_fit_log.append(mean_fitness)\n",
        "  max_fit_log.append(max_fitness)\n",
        "  print(mean_fitness, max_fitness)\n",
        "  if len(mean_fit_log) % 10 == 0:\n",
        "    clear_output()\n",
        "    plt.plot(mean_fit_log, label=\"mean_fitness\")\n",
        "    plt.plot(max_fit_log, label=\"max_fitness\")\n",
        "    plt.legend()\n",
        "    plt.show()"
      ]
    },
    {
      "cell_type": "markdown",
      "metadata": {
        "id": "Y-xLUg_Uh14k"
      },
      "source": [
        "### Show an example run of the result\n",
        "\n",
        "Consider modifying the code to vary the extent of the simulation and video configs."
      ]
    },
    {
      "cell_type": "code",
      "execution_count": null,
      "metadata": {
        "id": "65WC-fp1aI1Y"
      },
      "outputs": [],
      "source": [
        "\n",
        "key = jr.PRNGKey(43)\n",
        "\n",
        "# How many unique programs (organisms) are allowed in the simulation.\n",
        "N_MAX_PROGRAMS = 128\n",
        "\n",
        "n_steps = 10000\n",
        "\n",
        "programs = jp.repeat(solver.best_params[None,:], N_MAX_PROGRAMS, axis=0)\n",
        "\n",
        "ku, key = jr.split(key)\n",
        "visualize_run(ku, programs, agent_logic, mutator, st_env, config, n_steps)\n"
      ]
    },
    {
      "cell_type": "markdown",
      "metadata": {
        "id": "0K7RcaodpClW"
      },
      "source": [
        "## End-to-end meta-evolution: 15k, higher extinction penalty"
      ]
    },
    {
      "cell_type": "code",
      "execution_count": null,
      "metadata": {
        "id": "eQKtQBwMpClf"
      },
      "outputs": [],
      "source": [
        "agent_model = \"extended\" #@param ['minimal', 'extended']\n",
        "agent_logic = BasicAgentLogic(config, minimal_net=agent_model==\"minimal\")\n",
        "\n",
        "mutator_type = \"randomly_adaptive\" #@param ['basic', 'randomly_adaptive']\n",
        "sd = 1e-2 if mutator_type == \"basic\" and agent_model == \"basic\" else 1e-3\n",
        "mutator = (BasicMutator(sd=sd, change_perc=0.2) if mutator_type == \"basic\"\n",
        "           else RandomlyAdaptiveMutator(init_sd=sd, change_perc=0.2))"
      ]
    },
    {
      "cell_type": "code",
      "execution_count": null,
      "metadata": {
        "id": "FJhPfrErpClf"
      },
      "outputs": [],
      "source": [
        "def count_agents_f(env, etd):\n",
        "  return etd.is_agent_fn(env.type_grid).sum()\n",
        "\n",
        "@partial(jit, static_argnames=[\"config\", \"agent_logic\", \"mutator\", \"n_steps\", \"n_max_programs\"])\n",
        "def evaluate_biome(key, st_env, config, agent_logic, mutator, n_steps,\n",
        "                   init_program=None, n_max_programs=128):\n",
        "  def body_f(i, carry):\n",
        "    key, env, programs, tot_agents_n = carry\n",
        "    ku, key = jr.split(key)\n",
        "\n",
        "    env, programs = step_env(\n",
        "        ku, env, config, agent_logic, programs, do_reproduction=True,\n",
        "          mutate_programs=True, mutator=mutator)\n",
        "\n",
        "    tot_agents_n += count_agents_f(env, config.etd)\n",
        "    return key, env, programs, tot_agents_n\n",
        "\n",
        "  if init_program is None:\n",
        "    ku, key = jr.split(key)\n",
        "    programs = vmap(agent_logic.initialize)(jr.split(ku, n_max_programs))\n",
        "    ku, key = jr.split(key)\n",
        "    programs = vmap(mutator.initialize)(jr.split(ku, programs.shape[0]), programs)\n",
        "  else:\n",
        "    programs = jp.repeat(init_program[None, :], n_max_programs, axis=0)\n",
        "\n",
        "  key, env, programs, tot_agents_n = jax.lax.fori_loop(\n",
        "      0, n_steps, body_f, (key, st_env, programs, 0))\n",
        "\n",
        "  # check whether they got extinct:\n",
        "  is_extinct = (count_agents_f(env, config.etd) == 0).astype(jp.int32)\n",
        "  return tot_agents_n, is_extinct"
      ]
    },
    {
      "cell_type": "code",
      "execution_count": null,
      "metadata": {
        "id": "MvI0fbLhpClg"
      },
      "outputs": [],
      "source": [
        "from evojax.algo import PGPE\n",
        "\n",
        "key = jr.PRNGKey(138)\n",
        "\n",
        "N_MAX_PROGRAMS = 128\n",
        "\n",
        "n_steps = 15000\n",
        "\n",
        "# initialize params\n",
        "ku, key = jr.split(key)\n",
        "init_program = agent_logic.initialize(ku)\n",
        "ku, key = jr.split(key)\n",
        "init_program = mutator.initialize(ku, init_program)\n",
        "\n",
        "\n",
        "pop_size = 32\n",
        "ku, key = jr.split(key)\n",
        "solver = PGPE(\n",
        "    pop_size=pop_size,\n",
        "    param_size=init_program.shape[0],\n",
        "    optimizer='adam',\n",
        "    center_learning_rate=0.001,\n",
        "    stdev_learning_rate=0.001,\n",
        "    stdev_max_change=0.002,\n",
        "    seed=ku[0],\n",
        "    init_params=init_program,\n",
        "    init_stdev=0.001,\n",
        ")\n",
        "\n",
        "n_max_programs = 64 # less than usual, but it doesn't really matter.\n",
        "death_penalty = 1e6 * n_steps // 1000\n",
        "\n",
        "@jit\n",
        "def v_fitness_f(key, v_params):\n",
        "  ku, key = jr.split(key)\n",
        "  tot_agents_n, num_deaths = vmap(partial(\n",
        "      evaluate_biome, st_env=st_env, config=config, agent_logic=agent_logic,\n",
        "      mutator=mutator, n_steps=n_steps, n_max_programs=n_max_programs))(\n",
        "          jr.split(key, pop_size), init_program=v_params)\n",
        "  fitness = tot_agents_n - num_deaths * death_penalty\n",
        "  return fitness\n",
        "\n",
        "mean_fit_log = []\n",
        "max_fit_log = []"
      ]
    },
    {
      "cell_type": "code",
      "execution_count": null,
      "metadata": {
        "id": "Ao8IiodQpClg"
      },
      "outputs": [],
      "source": [
        "\n",
        "for _ in range(30):\n",
        "  # sample\n",
        "  programs = solver.ask()\n",
        "  # eval\n",
        "  key, k1 = jr.split(key)\n",
        "  fitness = v_fitness_f(k1, programs)\n",
        "  # update\n",
        "  solver.tell(fitness)\n",
        "\n",
        "  mean_fitness = fitness.mean()\n",
        "  max_fitness = fitness.max()\n",
        "  mean_fit_log.append(mean_fitness)\n",
        "  max_fit_log.append(max_fitness)\n",
        "  print(mean_fitness, max_fitness)\n",
        "  if len(mean_fit_log) % 10 == 0:\n",
        "    clear_output()\n",
        "    plt.plot(mean_fit_log, label=\"mean_fitness\")\n",
        "    plt.plot(max_fit_log, label=\"max_fitness\")\n",
        "    plt.legend()\n",
        "    plt.show()"
      ]
    },
    {
      "cell_type": "markdown",
      "metadata": {
        "id": "d-M_HQAUpClg"
      },
      "source": [
        "### Show an example run of the result\n",
        "\n",
        "Consider modifying the code to vary the extent of the simulation and video configs."
      ]
    },
    {
      "cell_type": "code",
      "execution_count": null,
      "metadata": {
        "id": "dk1EnFBupClg"
      },
      "outputs": [],
      "source": [
        "\n",
        "key = jr.PRNGKey(44)\n",
        "\n",
        "# How many unique programs (organisms) are allowed in the simulation.\n",
        "N_MAX_PROGRAMS = 128\n",
        "\n",
        "n_steps = 15000\n",
        "\n",
        "programs = jp.repeat(solver.best_params[None,:], N_MAX_PROGRAMS, axis=0)\n",
        "\n",
        "ku, key = jr.split(key)\n",
        "visualize_run(ku, programs, agent_logic, mutator, st_env, config, n_steps)\n"
      ]
    },
    {
      "cell_type": "markdown",
      "metadata": {
        "id": "iiy1mdvRRIdF"
      },
      "source": [
        "### Widen the environment: does anything change?"
      ]
    },
    {
      "cell_type": "code",
      "execution_count": null,
      "metadata": {
        "id": "-7Lm07U8RIdR"
      },
      "outputs": [],
      "source": [
        "\n",
        "test_env_and_config = evm.get_env_and_config(ec_id, width_type=w*4, h=h)\n",
        "env, _ = test_env_and_config\n",
        "\n",
        "key = jr.PRNGKey(45)\n",
        "\n",
        "# How many unique programs (organisms) are allowed in the simulation.\n",
        "N_MAX_PROGRAMS = 128\n",
        "\n",
        "n_steps = 30000\n",
        "\n",
        "zoom_sz = 24\n",
        "\n",
        "programs = jp.repeat(solver.best_params[None,:], N_MAX_PROGRAMS, axis=0)\n",
        "\n",
        "ku, key = jr.split(key)\n",
        "visualize_run(ku, programs, agent_logic, mutator, env, config, n_steps,\n",
        "              zoom_sz=zoom_sz)\n"
      ]
    },
    {
      "cell_type": "markdown",
      "metadata": {
        "id": "Eh0EoaaXrgfk"
      },
      "source": [
        "## Petri dish meta-evolution: aiming at a target size\n"
      ]
    },
    {
      "cell_type": "code",
      "execution_count": null,
      "metadata": {
        "id": "UxYjhj4xRD8x"
      },
      "outputs": [],
      "source": [
        "\n",
        "def visualize_petri_run(key, programs, agent_logic, st_env, config, n_steps,\n",
        "                  init_steps_per_frame=2,\n",
        "                  when_to_double_speed=[100, 500, 1000, 2000, 5000],\n",
        "                  fps=20,\n",
        "                  zoom_sz=40):\n",
        "  env = st_env\n",
        "  steps_per_frame = init_steps_per_frame\n",
        "\n",
        "  def make_frame(env):\n",
        "    return zoom(evm.grab_image_from_env(env, config), zoom_sz)\n",
        "\n",
        "  frame = make_frame(env)\n",
        "\n",
        "  out_file = \"video.mp4\"\n",
        "  with media.VideoWriter(out_file, shape=frame.shape[:2], fps=fps,\n",
        "                         crf=18) as video:\n",
        "    for i in tqdm.trange(n_steps):\n",
        "      if i in when_to_double_speed:\n",
        "        steps_per_frame *= 2\n",
        "\n",
        "      key, ku = jr.split(key)\n",
        "      env, n_successful_repr = step_env(\n",
        "          ku, env, config, agent_logic, programs, do_reproduction=True,\n",
        "          mutate_programs=False, intercept_reproduction=True,\n",
        "          min_repr_energy_requirement=jp.zeros([2]) # we don't care about it here.\n",
        "          )\n",
        "\n",
        "      if i % steps_per_frame == 0:\n",
        "        video.add_image(make_frame(env))\n",
        "\n",
        "  media.show_video(media.read_video(out_file))"
      ]
    },
    {
      "cell_type": "code",
      "execution_count": null,
      "metadata": {
        "id": "miBoPk75uuVz"
      },
      "outputs": [],
      "source": [
        "ec_id = \"persistence\" #@param ['persistence', 'pestilence', 'collaboration', 'sideways']\n",
        "env_width_type = \"landscape\" #@param ['wide', 'landscape', 'square', 'petri']\n",
        "# original h is 72\n",
        "h = 16 #@param {type: \"integer\"}\n",
        "\n",
        "env_and_config = evm.get_env_and_config(ec_id, width_type=env_width_type, h=h)\n",
        "st_env, config = env_and_config\n",
        "w = st_env.type_grid.shape[1]\n",
        "\n",
        "agent_model = \"extended\" #@param ['minimal', 'extended']\n",
        "agent_logic = BasicAgentLogic(config, minimal_net=agent_model==\"minimal\")\n",
        "\n",
        "mutator_type = \"basic\" #@param ['basic', 'randomly_adaptive']\n",
        "sd = 1e-2 if mutator_type == \"basic\" and agent_model == \"basic\" else 1e-3\n",
        "mutator = (BasicMutator(sd=sd, change_perc=0.2) if mutator_type == \"basic\"\n",
        "           else RandomlyAdaptiveMutator(init_sd=sd, change_perc=0.2))"
      ]
    },
    {
      "cell_type": "markdown",
      "metadata": {
        "id": "kFIJqxpiva4y"
      },
      "source": [
        "### Show an example petri run"
      ]
    },
    {
      "cell_type": "code",
      "execution_count": null,
      "metadata": {
        "id": "Ox6Mz_PWvZxW"
      },
      "outputs": [],
      "source": [
        "# visualize the result in a petri world first.\n",
        "key = jr.PRNGKey(43)\n",
        "\n",
        "# How many unique programs (organisms) are allowed in the simulation.\n",
        "N_MAX_PROGRAMS = 128\n",
        "\n",
        "n_steps = 2000\n",
        "\n",
        "# initialize params\n",
        "ku, key = jr.split(key)\n",
        "init_program = agent_logic.initialize(ku)\n",
        "programs = jp.repeat(init_program[None,:], N_MAX_PROGRAMS, axis=0)\n",
        "\n",
        "ku, key = jr.split(key)\n",
        "visualize_petri_run(ku, programs, agent_logic, st_env, config, n_steps)\n"
      ]
    },
    {
      "cell_type": "markdown",
      "metadata": {
        "id": "KsNrr4H-vgPQ"
      },
      "source": [
        "### Meta evolve with petri"
      ]
    },
    {
      "cell_type": "code",
      "execution_count": null,
      "metadata": {
        "id": "QU3k1qUErgfu"
      },
      "outputs": [],
      "source": [
        "from evojax.algo import PGPE\n",
        "\n",
        "key = jr.PRNGKey(137)\n",
        "\n",
        "N_MAX_PROGRAMS = 128\n",
        "\n",
        "n_steps = 2000\n",
        "\n",
        "# initialize params\n",
        "ku, key = jr.split(key)\n",
        "init_program = agent_logic.initialize(ku)\n",
        "# make sure the mutator doesn't actually increase # of parameters here, because\n",
        "# we are evolving without mutators.\n",
        "# essentially, we could remove this line.\n",
        "ku, key = jr.split(key)\n",
        "init_program = mutator.initialize(ku, init_program)\n",
        "\n",
        "\n",
        "pop_size = 64 # more, because anyway this is faster.\n",
        "ku, key = jr.split(key)\n",
        "solver = PGPE(\n",
        "    pop_size=pop_size,\n",
        "    param_size=init_program.shape[0],\n",
        "    optimizer='adam',\n",
        "    center_learning_rate=0.001,\n",
        "    stdev_learning_rate=0.001,\n",
        "    stdev_max_change=0.002,\n",
        "    seed=ku[0],\n",
        "    init_params=init_program,\n",
        "    init_stdev=0.001,\n",
        ")\n",
        "\n",
        "n_max_programs = 1 # No reproduction occurs, after all.\n",
        "\n",
        "# how many agents we want in the environment at any point in time.\n",
        "n_agent_target = 50\n",
        "min_repr_energy_requirement = (config.dissipation_per_step * 4) + config.specialize_cost * 2\n",
        "\n",
        "def count_agents_f(env, etd):\n",
        "  return etd.is_agent_fn(env.type_grid).sum()\n",
        "\n",
        "\n",
        "@jit\n",
        "def fitness_f(key, program):\n",
        "  def body_f(i, carry):\n",
        "    key, env, fit = carry\n",
        "    key, keyused = jr.split(key)\n",
        "\n",
        "    new_env, n_successful_repr = step_env(\n",
        "        keyused, env, config, agent_logic, program[None,:], do_reproduction=True,\n",
        "          mutate_programs=False, intercept_reproduction=True,\n",
        "        min_repr_energy_requirement=min_repr_energy_requirement)\n",
        "\n",
        "    n_agent_fit = -jp.abs(n_agent_target - count_agents_f(new_env, config.etd))\n",
        "    repr_fit = n_successful_repr * n_agent_target * 4\n",
        "\n",
        "    fit = fit + n_agent_fit + repr_fit\n",
        "    return key, new_env, fit\n",
        "\n",
        "  # process the integrity first\n",
        "  env = process_structural_integrity_n_times(st_env, config, 10)\n",
        "  _, f_env, fit = jax.lax.fori_loop(0, n_steps, body_f, (key, env, 0.))\n",
        "  return fit / n_steps\n",
        "\n",
        "@jit\n",
        "def v_fitness_f(key, v_params):\n",
        "  return vmap(fitness_f)(jr.split(key, pop_size), v_params)\n",
        "\n",
        "mean_fit_log = []\n",
        "max_fit_log = []"
      ]
    },
    {
      "cell_type": "code",
      "execution_count": null,
      "metadata": {
        "id": "qJ__Kczbrgfu"
      },
      "outputs": [],
      "source": [
        "\n",
        "for _ in range(30):\n",
        "  # sample\n",
        "  programs = solver.ask()\n",
        "  # eval\n",
        "  key, k1 = jr.split(key)\n",
        "  fitness = v_fitness_f(k1, programs)\n",
        "  # update\n",
        "  solver.tell(fitness)\n",
        "\n",
        "  mean_fitness = fitness.mean()\n",
        "  max_fitness = fitness.max()\n",
        "  mean_fit_log.append(mean_fitness)\n",
        "  max_fit_log.append(max_fitness)\n",
        "  print(mean_fitness, max_fitness)\n",
        "  if len(mean_fit_log) % 10 == 0:\n",
        "    clear_output()\n",
        "    plt.plot(mean_fit_log, label=\"mean_fitness\")\n",
        "    plt.plot(max_fit_log, label=\"max_fitness\")\n",
        "    plt.legend()\n",
        "    plt.show()"
      ]
    },
    {
      "cell_type": "markdown",
      "metadata": {
        "id": "1mH34fsIyO4i"
      },
      "source": [
        "### meta-evolved petri run"
      ]
    },
    {
      "cell_type": "code",
      "execution_count": null,
      "metadata": {
        "id": "7ZcC1q-5oHB-"
      },
      "outputs": [],
      "source": [
        "# visualize the result in a petri world first.\n",
        "key = jr.PRNGKey(43)\n",
        "\n",
        "# How many unique programs (organisms) are allowed in the simulation.\n",
        "N_MAX_PROGRAMS = 128\n",
        "\n",
        "n_steps = 2000\n",
        "\n",
        "programs = jp.repeat(solver.best_params[None,:], N_MAX_PROGRAMS, axis=0)\n",
        "\n",
        "ku, key = jr.split(key)\n",
        "visualize_petri_run(ku, programs, agent_logic, st_env, config, n_steps)\n"
      ]
    },
    {
      "cell_type": "markdown",
      "metadata": {
        "id": "XGKvhIvC68JH"
      },
      "source": [
        "### test it without mutations, for long."
      ]
    },
    {
      "cell_type": "code",
      "execution_count": null,
      "metadata": {
        "id": "2EbgczxA68JQ"
      },
      "outputs": [],
      "source": [
        "\n",
        "key = jr.PRNGKey(43)\n",
        "\n",
        "# How many unique programs (organisms) are allowed in the simulation.\n",
        "N_MAX_PROGRAMS = 128\n",
        "\n",
        "n_steps = 20000\n",
        "\n",
        "programs = jp.repeat(solver.best_params[None,:], N_MAX_PROGRAMS, axis=0)\n",
        "\n",
        "\n",
        "env = st_env\n",
        "\n",
        "steps_per_frame = 2\n",
        "# on what STEP to double speed.\n",
        "# NOTE that it is different from previous colabs, where we were talking about\n",
        "# frames.\n",
        "when_to_double_speed = [100, 500, 1000, 2000, 5000]\n",
        "fps = 20\n",
        "# this affects the size of the image. If this number is not even, the resulting\n",
        "# video *may* not be supported by all renderers.\n",
        "zoom_sz = 40\n",
        "\n",
        "def make_frame(env):\n",
        "  return zoom(evm.grab_image_from_env(env, config), zoom_sz)\n",
        "\n",
        "frame = make_frame(env)\n",
        "\n",
        "out_file = \"video.mp4\"\n",
        "with media.VideoWriter(out_file, shape=frame.shape[:2], fps=fps,\n",
        "                       crf=18,\n",
        "                       ) as video:\n",
        "  for i in tqdm.trange(n_steps):\n",
        "    if i in when_to_double_speed:\n",
        "      steps_per_frame *= 2\n",
        "\n",
        "    key, ku = jr.split(key)\n",
        "\n",
        "    env = step_env(\n",
        "        ku, env, config, agent_logic, programs, do_reproduction=True,\n",
        "          mutate_programs=False, mutator=mutator)\n",
        "\n",
        "    if i % steps_per_frame == 0:\n",
        "      video.add_image(make_frame(env))\n",
        "\n",
        "media.show_video(media.read_video(out_file))\n"
      ]
    },
    {
      "cell_type": "markdown",
      "metadata": {
        "id": "3iRJVyaZ6p-4"
      },
      "source": [
        "### test it with mutations, for long."
      ]
    },
    {
      "cell_type": "code",
      "execution_count": null,
      "metadata": {
        "id": "VdxJ0Hm9wLZ0"
      },
      "outputs": [],
      "source": [
        "\n",
        "key = jr.PRNGKey(43)\n",
        "\n",
        "# How many unique programs (organisms) are allowed in the simulation.\n",
        "N_MAX_PROGRAMS = 128\n",
        "\n",
        "n_steps = 20000\n",
        "\n",
        "programs = jp.repeat(solver.best_params[None,:], N_MAX_PROGRAMS, axis=0)\n",
        "\n",
        "\n",
        "mutator_type = \"basic\"\n",
        "sd = 1e-2 if mutator_type == \"basic\" and agent_model == \"basic\" else 1e-3\n",
        "mutator = (BasicMutator(sd=sd, change_perc=0.2) if mutator_type == \"basic\"\n",
        "           else RandomlyAdaptiveMutator(init_sd=sd, change_perc=0.2))\n",
        "\n",
        "ku, key = jr.split(key)\n",
        "visualize_run(ku, programs, agent_logic, mutator, st_env, config, n_steps)\n"
      ]
    },
    {
      "cell_type": "markdown",
      "metadata": {
        "id": "xo5neCy97gGG"
      },
      "source": [
        "### test it with small mutations, for long."
      ]
    },
    {
      "cell_type": "code",
      "execution_count": null,
      "metadata": {
        "id": "MJHUMBI47gGG"
      },
      "outputs": [],
      "source": [
        "\n",
        "key = jr.PRNGKey(43)\n",
        "\n",
        "# How many unique programs (organisms) are allowed in the simulation.\n",
        "N_MAX_PROGRAMS = 128\n",
        "\n",
        "n_steps = 20000\n",
        "\n",
        "programs = jp.repeat(solver.best_params[None,:], N_MAX_PROGRAMS, axis=0)\n",
        "\n",
        "mutator_type = \"basic\"\n",
        "sd = 1e-4\n",
        "mutator = (BasicMutator(sd=sd, change_perc=0.2) if mutator_type == \"basic\"\n",
        "           else RandomlyAdaptiveMutator(init_sd=sd, change_perc=0.2))\n",
        "\n",
        "ku, key = jr.split(key)\n",
        "visualize_run(ku, programs, agent_logic, mutator, st_env, config, n_steps)\n"
      ]
    },
    {
      "cell_type": "markdown",
      "metadata": {
        "id": "mfmACMkFyYtX"
      },
      "source": [
        "### Widen the environment: does anything change?"
      ]
    },
    {
      "cell_type": "code",
      "execution_count": null,
      "metadata": {
        "id": "SCtw1Rv1yrSb"
      },
      "outputs": [],
      "source": [
        "\n",
        "test_env_and_config = evm.get_env_and_config(ec_id, width_type=w*4, h=h)\n",
        "env, _ = test_env_and_config\n",
        "\n",
        "key = jr.PRNGKey(45)\n",
        "\n",
        "# How many unique programs (organisms) are allowed in the simulation.\n",
        "N_MAX_PROGRAMS = 128\n",
        "\n",
        "n_steps = 50000\n",
        "\n",
        "# on what FRAME to double speed.\n",
        "when_to_double_speed = [100, 500, 1000, 2000, 5000, 15000]\n",
        "\n",
        "# get the program from the solver.\n",
        "programs = jp.repeat(solver.best_params[None,:], N_MAX_PROGRAMS, axis=0)\n",
        "\n",
        "ku, key = jr.split(key)\n",
        "visualize_run(ku, programs, agent_logic, mutator, env, config, n_steps,\n",
        "              when_to_double_speed=when_to_double_speed,\n",
        "              zoom_sz=zoom_sz)"
      ]
    },
    {
      "cell_type": "markdown",
      "metadata": {
        "id": "eHlMhtTAU_Jb"
      },
      "source": [
        "### Save the dna for future use"
      ]
    },
    {
      "cell_type": "code",
      "execution_count": null,
      "metadata": {
        "id": "15X1bl-aVCJo"
      },
      "outputs": [],
      "source": [
        "notes = \"This dna was trained with petri meta evolution. So, no mutator was used. But I tested and it definitely works with BasicMutators and sd of 1e-4. In some cases, 1e-3. See the notebook evolving_in_small_worlds.ipynb for more context.\" # @param {type:\"string\"}\n",
        "author = \"anonymous\" # @param {type:\"string\"}\n",
        "\n",
        "out_f = save_dna(\n",
        "    dna, ec_id, config, agent_logic, mutator, env_h=h, env_w=w,\n",
        "    author=author, notes=notes, out_dir=\"./\")"
      ]
    },
    {
      "cell_type": "code",
      "execution_count": null,
      "metadata": {
        "id": "DGutSC6TVyhG"
      },
      "outputs": [],
      "source": [
        "from google.colab import files\n",
        "files.download(out_f + \".npy\")\n",
        "files.download(out_f + \".txt\")"
      ]
    },
    {
      "cell_type": "markdown",
      "metadata": {
        "id": "zr7TaufJV-am"
      },
      "source": [
        "## Extra: load a saved dna and run it"
      ]
    },
    {
      "cell_type": "code",
      "execution_count": null,
      "metadata": {
        "id": "6zbZ87JcWGgE"
      },
      "outputs": [],
      "source": [
        "load_from_out_f = True # @param [\"True\", \"False\"] {type:\"raw\"}\n",
        "file_path_if_false = \"\" # @param {type:\"string\"}\n",
        "\n",
        "# if you want to load a prepackaged dna, set load_from_this_package to True manually.\n",
        "dna = load_dna(out_f if load_from_out_f else file_path_if_false,\n",
        "               load_from_this_package=False)"
      ]
    },
    {
      "cell_type": "code",
      "execution_count": null,
      "metadata": {
        "id": "kZXv7dENW3Rs"
      },
      "outputs": [],
      "source": [
        "test_env_and_config = evm.get_env_and_config(ec_id, width_type=w*4, h=h)\n",
        "env, _ = test_env_and_config\n",
        "\n",
        "key = jr.PRNGKey(45)\n",
        "\n",
        "# How many unique programs (organisms) are allowed in the simulation.\n",
        "N_MAX_PROGRAMS = 128\n",
        "\n",
        "n_steps = 50000\n",
        "\n",
        "# on what FRAME to double speed.\n",
        "when_to_double_speed = [100, 500, 1000, 2000, 5000, 15000]\n",
        "\n",
        "# get the program from the solver.\n",
        "programs = jp.repeat(dna[None,:], N_MAX_PROGRAMS, axis=0)\n",
        "zoom_sz = 40\n",
        "\n",
        "ku, key = jr.split(key)\n",
        "visualize_run(ku, programs, agent_logic, mutator, env, config, n_steps,\n",
        "              when_to_double_speed=when_to_double_speed,\n",
        "              zoom_sz=zoom_sz)"
      ]
    }
  ],
  "metadata": {
    "accelerator": "GPU",
    "colab": {
      "gpuType": "V100",
      "last_runtime": {
        "build_target": "//learning/grp/tools/ml_python:ml_notebook",
        "kind": "private"
      },
      "machine_shape": "hm",
      "private_outputs": true,
      "provenance": [
        {
          "file_id": "16TZKpq0KNtBST6RRcuMPZZsn60rpNoWR",
          "timestamp": 1697557192003
        },
        {
          "file_id": "/piper/depot/google3/third_party/py/self_organising_systems/biomakerca/examples/notebooks/e2e_evolution.ipynb?workspaceId=etr:biomaker::citc",
          "timestamp": 1696924090768
        },
        {
          "file_id": "1xx4VPknDmcVeLNdhCbAGEaQ0sG0NNxF1",
          "timestamp": 1688723367150
        },
        {
          "file_id": "1ADfcMRj-JmfN6VUIcuqU-3bTMGrWSkj_",
          "timestamp": 1688655694830
        },
        {
          "file_id": "1XY102qIEc9MY9hd-Jb6Oirmyw7ga2LZL",
          "timestamp": 1688637712371
        }
      ],
      "toc_visible": true
    },
    "kernelspec": {
      "display_name": "Python 3",
      "name": "python3"
    },
    "language_info": {
      "name": "python"
    }
  },
  "nbformat": 4,
  "nbformat_minor": 0
}
